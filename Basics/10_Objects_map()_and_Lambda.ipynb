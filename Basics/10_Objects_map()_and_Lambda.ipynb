{
 "cells": [
  {
   "cell_type": "markdown",
   "id": "c62b3aeb",
   "metadata": {},
   "source": [
    "# Class"
   ]
  },
  {
   "cell_type": "markdown",
   "id": "622005d0",
   "metadata": {},
   "source": [
    "A Python **class** is like an outline for creating a new object. An object is anything that you wish to manipulate or change while working through the code. Every time a class object is instantiated, which is when we declare a variable, a new object is initiated from scratch. Class objects can be used over and over again whenever needed.\n",
    "<br>\n",
    "<br>\n",
    "A class is considered as a blueprint of objects. We can think of the class as a sketch (prototype) of a house. It contains all the details about the floors, doors, windows, etc. Based on these descriptions we build the house. House is the object.\n",
    "\n",
    "Since many houses can be made from the same description, we can create many objects from a class. An **object** is called an instance of a class. \n",
    "\n"
   ]
  },
  {
   "cell_type": "markdown",
   "id": "af075114",
   "metadata": {},
   "source": [
    "### Creating a single object from a Class"
   ]
  },
  {
   "cell_type": "code",
   "execution_count": 1,
   "id": "cd2e5086",
   "metadata": {},
   "outputs": [],
   "source": [
    "# Creating a Class\n",
    "\n",
    "class Bike:\n",
    "    name = \"\"\n",
    "    gear = 0"
   ]
  },
  {
   "cell_type": "code",
   "execution_count": 2,
   "id": "9c49c367",
   "metadata": {},
   "outputs": [],
   "source": [
    "# Creating an Object\n",
    "\n",
    "bike_1 = Bike()"
   ]
  },
  {
   "cell_type": "code",
   "execution_count": 3,
   "id": "96f473da",
   "metadata": {},
   "outputs": [
    {
     "data": {
      "text/plain": [
       "0"
      ]
     },
     "execution_count": 3,
     "metadata": {},
     "output_type": "execute_result"
    }
   ],
   "source": [
    "# Accessing the attributes\n",
    "bike_1.gear"
   ]
  },
  {
   "cell_type": "code",
   "execution_count": 4,
   "id": "3b453727",
   "metadata": {},
   "outputs": [
    {
     "data": {
      "text/plain": [
       "'Mountain Bike'"
      ]
     },
     "execution_count": 4,
     "metadata": {},
     "output_type": "execute_result"
    }
   ],
   "source": [
    "# Modifying the attributes\n",
    "bike_1.name = \"Mountain Bike\"\n",
    "bike_1.name"
   ]
  },
  {
   "cell_type": "code",
   "execution_count": null,
   "id": "ccde1005",
   "metadata": {},
   "outputs": [],
   "source": []
  },
  {
   "cell_type": "markdown",
   "id": "04bb952c",
   "metadata": {},
   "source": [
    "### Creating multiple objects from a Class"
   ]
  },
  {
   "cell_type": "code",
   "execution_count": 5,
   "id": "c96de48d",
   "metadata": {},
   "outputs": [
    {
     "name": "stdout",
     "output_type": "stream",
     "text": [
      "Employee 1 ID : 1001  Employee 2 ID : 1002\n"
     ]
    }
   ],
   "source": [
    "# Creating a Class\n",
    "class Employee:\n",
    "    employee_id = 0 \n",
    "\n",
    "# Creating two new employee objects\n",
    "employee_1 = Employee()\n",
    "employee_2 = Employee()\n",
    "\n",
    "# Accessing attributes\n",
    "employee_1.employee_id = 1001\n",
    "employee_2.employee_id = 1002\n",
    "\n",
    "print(\"Employee 1 ID : {}  Employee 2 ID : {}\".format(employee_1.employee_id,employee_2.employee_id))"
   ]
  },
  {
   "cell_type": "code",
   "execution_count": null,
   "id": "f277034a",
   "metadata": {},
   "outputs": [],
   "source": []
  },
  {
   "cell_type": "markdown",
   "id": "fb1ce30d",
   "metadata": {},
   "source": [
    "### Python Methods"
   ]
  },
  {
   "cell_type": "markdown",
   "id": "2c18ae1b",
   "metadata": {},
   "source": [
    "We can also define a function inside a Python class. A Python Function defined inside a class is called a method. These are different from functions as:\n",
    "\n",
    "1. Unlike a function, methods are called on an object. Like in our example above we call our method .i.e. “my_method” on the object “cat” whereas the function “sum” is called without any object. Also, because the method is called on an object, it can access that data within it.\n",
    "\n",
    "2. Unlike method which can alter the object’s state, python function doesn’t do this and normally operates on it."
   ]
  },
  {
   "cell_type": "code",
   "execution_count": 6,
   "id": "dea19831",
   "metadata": {},
   "outputs": [
    {
     "name": "stdout",
     "output_type": "stream",
     "text": [
      "Area of Room = 1309.0\n"
     ]
    }
   ],
   "source": [
    "# Creating a class\n",
    "class Room:\n",
    "    length = 0.0\n",
    "    breadth = 0.0\n",
    "    \n",
    "    # method to calculate area\n",
    "    def calculate_area(self):\n",
    "        print(\"Area of Room =\", self.length * self.breadth)\n",
    "\n",
    "# Creating an object of Room class\n",
    "study_room = Room()\n",
    "\n",
    "# Assigning values to all the attributes \n",
    "study_room.length = 42.5\n",
    "study_room.breadth = 30.8\n",
    "\n",
    "# Accessing method inside class\n",
    "study_room.calculate_area()"
   ]
  },
  {
   "cell_type": "code",
   "execution_count": 7,
   "id": "f6cee1ae",
   "metadata": {},
   "outputs": [
    {
     "name": "stdout",
     "output_type": "stream",
     "text": [
      "School of Science\n",
      "Raunaq\n",
      "Toronto\n"
     ]
    }
   ],
   "source": [
    "# Creating a Class\n",
    "class Person:\n",
    "    department = \"School of Science\"  # default value\n",
    "    \n",
    "    # Defining Method\n",
    "    def set_name(self, new_name):\n",
    "        self.name = new_name\n",
    "    def set_location(self, new_location):\n",
    "        self.location = new_location\n",
    "    \n",
    "# Creating an Object\n",
    "p_1 = Person()\n",
    "\n",
    "# Accessing method inside the Class\n",
    "p_1.set_name(\"Raunaq\")\n",
    "p_1.set_location(\"Toronto\")\n",
    "\n",
    "# Accessing updated attributes\n",
    "print(p_1.department)\n",
    "print(p_1.name)\n",
    "print(p_1.location)"
   ]
  },
  {
   "cell_type": "code",
   "execution_count": null,
   "id": "f1846f1f",
   "metadata": {},
   "outputs": [],
   "source": []
  },
  {
   "cell_type": "markdown",
   "id": "7cbcb32e",
   "metadata": {},
   "source": [
    "# Map()"
   ]
  },
  {
   "cell_type": "markdown",
   "id": "4a66345b",
   "metadata": {},
   "source": [
    "The map() function applies a given function to each item of an iterable (list, tuple etc.) and returns an iterator.\n",
    "\n",
    "The map() function takes two parameters:\n",
    "\n",
    "1. function - a function that perform some action to each element of an iterable\n",
    "2. iterable - an iterable like sets, lists, tuples, etc\n",
    "<br>\n",
    "<br>\n",
    "You can pass more than one iterable to the map() function."
   ]
  },
  {
   "cell_type": "code",
   "execution_count": 8,
   "id": "070e1004",
   "metadata": {},
   "outputs": [
    {
     "data": {
      "text/plain": [
       "<map at 0x19883684b80>"
      ]
     },
     "execution_count": 8,
     "metadata": {},
     "output_type": "execute_result"
    }
   ],
   "source": [
    "a = [11.0,2.0,33.0,4.0]\n",
    "b = [10.0,20.0,30.0,40.0]\n",
    "\n",
    "map_example = map(min,a,b)\n",
    "map_example\n",
    "\n",
    "# Map() performs Lazy Evaluation i.e.it will return a map object instead of running the actualy function. \n",
    "# This allows for efficient memory management by only performing it when the user tries to access the map object."
   ]
  },
  {
   "cell_type": "code",
   "execution_count": 9,
   "id": "03e661dc",
   "metadata": {},
   "outputs": [
    {
     "data": {
      "text/plain": [
       "[10.0, 2.0, 30.0, 4.0]"
      ]
     },
     "execution_count": 9,
     "metadata": {},
     "output_type": "execute_result"
    }
   ],
   "source": [
    "list(map_example)"
   ]
  },
  {
   "cell_type": "code",
   "execution_count": 10,
   "id": "2fd025a0",
   "metadata": {},
   "outputs": [
    {
     "data": {
      "text/plain": [
       "[1, 32, 729]"
      ]
     },
     "execution_count": 10,
     "metadata": {},
     "output_type": "execute_result"
    }
   ],
   "source": [
    "# Number of iterations are limited to the length of the shorted iterable\n",
    "\n",
    "first_it = [1, 2, 3]\n",
    "second_it = [4, 5, 6, 7]\n",
    "\n",
    "list(map(pow, first_it, second_it))  # pow takes x and y to return x^y"
   ]
  },
  {
   "cell_type": "code",
   "execution_count": null,
   "id": "fa9fc82c",
   "metadata": {},
   "outputs": [],
   "source": []
  },
  {
   "cell_type": "markdown",
   "id": "68f59a82",
   "metadata": {},
   "source": [
    "# Lambda Functions"
   ]
  },
  {
   "cell_type": "markdown",
   "id": "ef17ac92",
   "metadata": {},
   "source": [
    "A lambda function is an anonymous function. We use the lambda keyword instead of def to create a lambda function. Here's the syntax to declare the lambda function:\n",
    "<br><br>\n",
    "***lambda argument(s) : expression***\n",
    "<br><br>\n",
    "It is not permited to have default values in lambda functions and it can only handle relatively simple logic."
   ]
  },
  {
   "cell_type": "code",
   "execution_count": 11,
   "id": "ae93ff8d",
   "metadata": {},
   "outputs": [
    {
     "data": {
      "text/plain": [
       "1.0"
      ]
     },
     "execution_count": 11,
     "metadata": {},
     "output_type": "execute_result"
    }
   ],
   "source": [
    "my_function = lambda a,b,c : (a+b)/c\n",
    "my_function(1,2,3)"
   ]
  },
  {
   "cell_type": "code",
   "execution_count": 12,
   "id": "86ac428e",
   "metadata": {},
   "outputs": [
    {
     "name": "stdout",
     "output_type": "stream",
     "text": [
      "Dr. Brooks\n",
      "Dr. Collins-Thompson\n",
      "Dr. Vydiswaran\n",
      "Dr. Romero\n"
     ]
    }
   ],
   "source": [
    "# Consider the following list of people:\n",
    "people = ['Dr. Christopher Brooks', 'Dr. Kevyn Collins-Thompson', 'Dr. VG Vinod Vydiswaran', 'Dr. Daniel Romero']\n",
    "# Let the goal be to extract \"Dr.\" + Last Name\n",
    "\n",
    "\n",
    "# Using RegEx\n",
    "for person in people:\n",
    "    print( person.split()[0]+ \" \" + person.split()[-1])"
   ]
  },
  {
   "cell_type": "code",
   "execution_count": 13,
   "id": "8b865080",
   "metadata": {},
   "outputs": [
    {
     "data": {
      "text/plain": [
       "['Dr. Brooks', 'Dr. Collins-Thompson', 'Dr. Vydiswaran', 'Dr. Romero']"
      ]
     },
     "execution_count": 13,
     "metadata": {},
     "output_type": "execute_result"
    }
   ],
   "source": [
    "# Using Maps\n",
    "def last_name_extract(x):\n",
    "    return (x.split()[0] + \" \" + x.split()[-1])\n",
    "\n",
    "list(map(last_name_extract,people))"
   ]
  },
  {
   "cell_type": "code",
   "execution_count": 14,
   "id": "d3ff4896",
   "metadata": {},
   "outputs": [
    {
     "data": {
      "text/plain": [
       "['Dr. Brooks', 'Dr. Collins-Thompson', 'Dr. Vydiswaran', 'Dr. Romero']"
      ]
     },
     "execution_count": 14,
     "metadata": {},
     "output_type": "execute_result"
    }
   ],
   "source": [
    "# Using Lambda Function and Maps\n",
    "\n",
    "list(map(lambda x: x.split()[0] + \" \" + x.split()[-1],people))"
   ]
  },
  {
   "cell_type": "code",
   "execution_count": null,
   "id": "748d0557",
   "metadata": {},
   "outputs": [],
   "source": []
  }
 ],
 "metadata": {
  "kernelspec": {
   "display_name": "Python 3 (ipykernel)",
   "language": "python",
   "name": "python3"
  },
  "language_info": {
   "codemirror_mode": {
    "name": "ipython",
    "version": 3
   },
   "file_extension": ".py",
   "mimetype": "text/x-python",
   "name": "python",
   "nbconvert_exporter": "python",
   "pygments_lexer": "ipython3",
   "version": "3.8.12"
  }
 },
 "nbformat": 4,
 "nbformat_minor": 5
}
