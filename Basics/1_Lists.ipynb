{
 "cells": [
  {
   "cell_type": "markdown",
   "id": "337c2bfb",
   "metadata": {},
   "source": [
    "# LISTS"
   ]
  },
  {
   "cell_type": "markdown",
   "id": "406c9acd",
   "metadata": {},
   "source": [
    "##### List in Python are ordered and have a definite count. The elements in a list are indexed according to a definite sequence and the indexing of a list is done with 0 being the first index. Each element in the list has its definite place in the list, which allows duplicating of elements in the list, with each element having its own distinct place and credibility."
   ]
  },
  {
   "cell_type": "markdown",
   "id": "53f4866c",
   "metadata": {},
   "source": [
    "### **MUTABLE IN NATURE**"
   ]
  },
  {
   "cell_type": "markdown",
   "id": "9e16eac9",
   "metadata": {},
   "source": [
    "### Empty Lists"
   ]
  },
  {
   "cell_type": "code",
   "execution_count": 1,
   "id": "64eeeb7e",
   "metadata": {},
   "outputs": [
    {
     "data": {
      "text/plain": [
       "[]"
      ]
     },
     "execution_count": 1,
     "metadata": {},
     "output_type": "execute_result"
    }
   ],
   "source": [
    "# empty list\n",
    "empty_list = []\n",
    "empty_list"
   ]
  },
  {
   "cell_type": "markdown",
   "id": "996168e9",
   "metadata": {},
   "source": [
    "### Accessing List Elements and Slicing"
   ]
  },
  {
   "cell_type": "code",
   "execution_count": 2,
   "id": "a72c2019",
   "metadata": {},
   "outputs": [
    {
     "data": {
      "text/plain": [
       "['History', 'Math', 'Physics', 'CompSci']"
      ]
     },
     "execution_count": 2,
     "metadata": {},
     "output_type": "execute_result"
    }
   ],
   "source": [
    "courses = ['History', 'Math' , 'Physics' , 'CompSci']\n",
    "courses"
   ]
  },
  {
   "cell_type": "code",
   "execution_count": 3,
   "id": "364460c1",
   "metadata": {},
   "outputs": [
    {
     "data": {
      "text/plain": [
       "'History'"
      ]
     },
     "execution_count": 3,
     "metadata": {},
     "output_type": "execute_result"
    }
   ],
   "source": [
    "# first element\n",
    "courses[0]"
   ]
  },
  {
   "cell_type": "code",
   "execution_count": 4,
   "id": "2851f963",
   "metadata": {},
   "outputs": [
    {
     "data": {
      "text/plain": [
       "'CompSci'"
      ]
     },
     "execution_count": 4,
     "metadata": {},
     "output_type": "execute_result"
    }
   ],
   "source": [
    "# last element\n",
    "courses[3]"
   ]
  },
  {
   "cell_type": "code",
   "execution_count": 5,
   "id": "b7650bf8",
   "metadata": {},
   "outputs": [
    {
     "data": {
      "text/plain": [
       "'CompSci'"
      ]
     },
     "execution_count": 5,
     "metadata": {},
     "output_type": "execute_result"
    }
   ],
   "source": [
    "# last element\n",
    "courses[-1]"
   ]
  },
  {
   "cell_type": "code",
   "execution_count": 6,
   "id": "3e790be7",
   "metadata": {},
   "outputs": [
    {
     "data": {
      "text/plain": [
       "['History', 'Math']"
      ]
     },
     "execution_count": 6,
     "metadata": {},
     "output_type": "execute_result"
    }
   ],
   "source": [
    "# range of elements - ending index is not included\n",
    "courses[0:2]"
   ]
  },
  {
   "cell_type": "code",
   "execution_count": 7,
   "id": "6c47ebb0",
   "metadata": {},
   "outputs": [
    {
     "data": {
      "text/plain": [
       "['History', 'Physics']"
      ]
     },
     "execution_count": 7,
     "metadata": {},
     "output_type": "execute_result"
    }
   ],
   "source": [
    "# Accessing based on a Step Size\n",
    "\n",
    "out = []\n",
    "for i in range(0,3,2):\n",
    "    out.append(courses[i])\n",
    "out"
   ]
  },
  {
   "cell_type": "code",
   "execution_count": 8,
   "id": "562c0ea5",
   "metadata": {},
   "outputs": [
    {
     "data": {
      "text/plain": [
       "['History', 'Physics']"
      ]
     },
     "execution_count": 8,
     "metadata": {},
     "output_type": "execute_result"
    }
   ],
   "source": [
    "# OR\n",
    "# [START: STOP : STEP]\n",
    "\n",
    "courses[::2]"
   ]
  },
  {
   "cell_type": "markdown",
   "id": "5a08a4dd",
   "metadata": {},
   "source": [
    "### Updating Lists"
   ]
  },
  {
   "cell_type": "code",
   "execution_count": 9,
   "id": "f853d282",
   "metadata": {},
   "outputs": [
    {
     "data": {
      "text/plain": [
       "['Chemistry', 'Math', 'Physics', 'CompSci']"
      ]
     },
     "execution_count": 9,
     "metadata": {},
     "output_type": "execute_result"
    }
   ],
   "source": [
    "# updating elements\n",
    "courses[0] = 'Chemistry'\n",
    "courses"
   ]
  },
  {
   "cell_type": "code",
   "execution_count": 10,
   "id": "034db1f5",
   "metadata": {},
   "outputs": [
    {
     "data": {
      "text/plain": [
       "['Chemistry', 'Math', 'Geography', 'English']"
      ]
     },
     "execution_count": 10,
     "metadata": {},
     "output_type": "execute_result"
    }
   ],
   "source": [
    "# updating elements\n",
    "courses[-2:] = ['Geography','English']\n",
    "courses"
   ]
  },
  {
   "cell_type": "code",
   "execution_count": 11,
   "id": "d5ece255",
   "metadata": {},
   "outputs": [
    {
     "name": "stdout",
     "output_type": "stream",
     "text": [
      "['Chemistry', 'Math', 'Geography', 'English']\n"
     ]
    },
    {
     "data": {
      "text/plain": [
       "['Math', 'Geography', 'English']"
      ]
     },
     "execution_count": 11,
     "metadata": {},
     "output_type": "execute_result"
    }
   ],
   "source": [
    "# deleting an element\n",
    "print(courses)\n",
    "del(courses[0])\n",
    "courses"
   ]
  },
  {
   "cell_type": "markdown",
   "id": "a1f3eeba",
   "metadata": {},
   "source": [
    "### Concatenating Lists"
   ]
  },
  {
   "cell_type": "code",
   "execution_count": 12,
   "id": "ac5359b5",
   "metadata": {},
   "outputs": [
    {
     "data": {
      "text/plain": [
       "['Math', 'Geography', 'English', 'Finance', 'Accounting']"
      ]
     },
     "execution_count": 12,
     "metadata": {},
     "output_type": "execute_result"
    }
   ],
   "source": [
    "# concatenating - doesnt change the original list\n",
    "courses + ['Finance', 'Accounting']"
   ]
  },
  {
   "cell_type": "markdown",
   "id": "2f4d4a57",
   "metadata": {},
   "source": [
    "### Length of Lists"
   ]
  },
  {
   "cell_type": "code",
   "execution_count": 13,
   "id": "841177f3",
   "metadata": {},
   "outputs": [
    {
     "data": {
      "text/plain": [
       "4"
      ]
     },
     "execution_count": 13,
     "metadata": {},
     "output_type": "execute_result"
    }
   ],
   "source": [
    "courses = ['History', 'Math' , 'Physics' , 'CompSci']\n",
    "len(courses)"
   ]
  },
  {
   "cell_type": "markdown",
   "id": "90083dca",
   "metadata": {},
   "source": [
    "### Getting Index"
   ]
  },
  {
   "cell_type": "code",
   "execution_count": 14,
   "id": "e0cd7ab8",
   "metadata": {},
   "outputs": [
    {
     "data": {
      "text/plain": [
       "3"
      ]
     },
     "execution_count": 14,
     "metadata": {},
     "output_type": "execute_result"
    }
   ],
   "source": [
    "courses = ['History', 'Math' , 'Physics' , 'CompSci']\n",
    "courses.index('CompSci')"
   ]
  },
  {
   "cell_type": "markdown",
   "id": "cec9fd4c",
   "metadata": {},
   "source": [
    "### Check if an Element is Present in the List or Not"
   ]
  },
  {
   "cell_type": "code",
   "execution_count": 15,
   "id": "31c44045",
   "metadata": {},
   "outputs": [
    {
     "data": {
      "text/plain": [
       "False"
      ]
     },
     "execution_count": 15,
     "metadata": {},
     "output_type": "execute_result"
    }
   ],
   "source": [
    "courses = ['History', 'Math' , 'Physics' , 'CompSci']\n",
    "'Art' in courses"
   ]
  },
  {
   "cell_type": "code",
   "execution_count": 16,
   "id": "b1d6847f",
   "metadata": {},
   "outputs": [
    {
     "data": {
      "text/plain": [
       "True"
      ]
     },
     "execution_count": 16,
     "metadata": {},
     "output_type": "execute_result"
    }
   ],
   "source": [
    "courses = ['History', 'Math' , 'Physics' , 'CompSci']\n",
    "'History' in courses"
   ]
  },
  {
   "cell_type": "markdown",
   "id": "6930e1cc",
   "metadata": {},
   "source": [
    "### Adding Elements to a List"
   ]
  },
  {
   "cell_type": "code",
   "execution_count": 17,
   "id": "ff85d79f",
   "metadata": {},
   "outputs": [
    {
     "data": {
      "text/plain": [
       "['History', 'Math', 'Physics', 'CompSci', 'Art']"
      ]
     },
     "execution_count": 17,
     "metadata": {},
     "output_type": "execute_result"
    }
   ],
   "source": [
    "# add element to the end of the list\n",
    "courses.append('Art')\n",
    "courses"
   ]
  },
  {
   "cell_type": "code",
   "execution_count": 18,
   "id": "014a53f7",
   "metadata": {},
   "outputs": [
    {
     "data": {
      "text/plain": [
       "['Psychology', 'History', 'Math', 'Physics', 'CompSci', 'Art']"
      ]
     },
     "execution_count": 18,
     "metadata": {},
     "output_type": "execute_result"
    }
   ],
   "source": [
    "# add element at the specified index\n",
    "courses.insert(0,'Psychology')\n",
    "courses"
   ]
  },
  {
   "cell_type": "markdown",
   "id": "e7318db0",
   "metadata": {},
   "source": [
    "### Extending a list"
   ]
  },
  {
   "cell_type": "code",
   "execution_count": 19,
   "id": "0b37478d",
   "metadata": {},
   "outputs": [
    {
     "name": "stdout",
     "output_type": "stream",
     "text": [
      "courses:  ['Math', 'English']\n",
      "courses_2:  ['Art', 'Science']\n",
      "new courses:  [['Art', 'Science'], 'Math', 'English']\n",
      "courses:  ['Math', 'English']\n",
      "courses_2:  ['Art', 'Science']\n",
      "new courses:  ['Art', 'Science', 'Math', 'English']\n"
     ]
    }
   ],
   "source": [
    "# adding a new list to an existing list\n",
    "\n",
    "courses = ['Math','English']\n",
    "courses_2 = ['Art','Science']\n",
    "print(\"courses: \",courses)\n",
    "print(\"courses_2: \",courses_2)\n",
    "courses.insert(0,courses_2)\n",
    "print(\"new courses: \",courses)\n",
    "# we dont want this as it adds a list within a list\n",
    "\n",
    "courses = ['Math','English']\n",
    "courses_2 = ['Art','Science']\n",
    "print(\"courses: \",courses)\n",
    "print(\"courses_2: \",courses_2)\n",
    "courses_2.extend(courses)\n",
    "print(\"new courses: \",courses_2)"
   ]
  },
  {
   "cell_type": "markdown",
   "id": "39e17d3e",
   "metadata": {},
   "source": [
    "### Removing Elements"
   ]
  },
  {
   "cell_type": "code",
   "execution_count": 20,
   "id": "4469e715",
   "metadata": {},
   "outputs": [
    {
     "name": "stdout",
     "output_type": "stream",
     "text": [
      "list 1:  [1, 2, 3, 4, 5]\n",
      "new list 1:  [2, 3, 4, 5]\n"
     ]
    }
   ],
   "source": [
    "# Removing a specific element\n",
    "list_1 = [1,2,3,4,5]\n",
    "print(\"list 1: \",list_1)\n",
    "list_1.remove(1)\n",
    "print(\"new list 1: \",list_1)"
   ]
  },
  {
   "cell_type": "markdown",
   "id": "06910bae",
   "metadata": {},
   "source": [
    "### Sorting a List - A to Z"
   ]
  },
  {
   "cell_type": "code",
   "execution_count": 21,
   "id": "5220e660",
   "metadata": {},
   "outputs": [
    {
     "data": {
      "text/plain": [
       "['CompSci', 'History', 'Math', 'Physics']"
      ]
     },
     "execution_count": 21,
     "metadata": {},
     "output_type": "execute_result"
    }
   ],
   "source": [
    "courses = ['History', 'Math' , 'Physics' , 'CompSci']\n",
    "courses.sort()\n",
    "courses"
   ]
  },
  {
   "cell_type": "markdown",
   "id": "445916ee",
   "metadata": {},
   "source": [
    "### Sorting a List - Z to A"
   ]
  },
  {
   "cell_type": "code",
   "execution_count": 22,
   "id": "90ff7cc6",
   "metadata": {},
   "outputs": [
    {
     "data": {
      "text/plain": [
       "['Physics', 'Math', 'History', 'CompSci']"
      ]
     },
     "execution_count": 22,
     "metadata": {},
     "output_type": "execute_result"
    }
   ],
   "source": [
    "courses = ['History', 'Math' , 'Physics' , 'CompSci']\n",
    "courses.sort(reverse=True)\n",
    "courses"
   ]
  },
  {
   "cell_type": "markdown",
   "id": "cf5f1baa",
   "metadata": {},
   "source": [
    "### Reversing a List"
   ]
  },
  {
   "cell_type": "code",
   "execution_count": 23,
   "id": "1112bf9e",
   "metadata": {},
   "outputs": [
    {
     "name": "stdout",
     "output_type": "stream",
     "text": [
      "['Physics', 'Math', 'History', 'CompSci']\n",
      "['CompSci', 'History', 'Math', 'Physics']\n"
     ]
    }
   ],
   "source": [
    "# reversing a list\n",
    "print(courses)\n",
    "courses.reverse()\n",
    "print(courses)"
   ]
  },
  {
   "cell_type": "markdown",
   "id": "492841dd",
   "metadata": {},
   "source": [
    "### Copy and Shallow Copy"
   ]
  },
  {
   "cell_type": "code",
   "execution_count": 24,
   "id": "37b436c2",
   "metadata": {},
   "outputs": [
    {
     "name": "stdout",
     "output_type": "stream",
     "text": [
      "old x:  [1, 2, 3]\n",
      "new y:  [1, 2, 3, 4]\n",
      "new x:  [1, 2, 3, 4]\n"
     ]
    }
   ],
   "source": [
    "# Copying a list\n",
    "\n",
    "# changes in y will change elements in x\n",
    "x = [1,2,3]\n",
    "y = x\n",
    "print(\"old x: \",x)\n",
    "y.append(4)\n",
    "print(\"new y: \",y)\n",
    "print(\"new x: \",x)"
   ]
  },
  {
   "cell_type": "code",
   "execution_count": 25,
   "id": "736ff9bb",
   "metadata": {},
   "outputs": [
    {
     "name": "stdout",
     "output_type": "stream",
     "text": [
      "old x:  [1, 2, 3]\n",
      "new y:  [1, 2, 3, 4]\n",
      "new x:  [1, 2, 3]\n"
     ]
    }
   ],
   "source": [
    "# Making a Shallow Copy so that changes are not reflected in the original list\n",
    "\n",
    "x = [1,2,3]\n",
    "y = x.copy()\n",
    "print(\"old x: \",x)\n",
    "y.append(4)\n",
    "print(\"new y: \",y)\n",
    "print(\"new x: \",x)"
   ]
  },
  {
   "cell_type": "markdown",
   "id": "47d69e4f",
   "metadata": {},
   "source": [
    "### Numeric Lists"
   ]
  },
  {
   "cell_type": "code",
   "execution_count": 26,
   "id": "9d763aa5",
   "metadata": {},
   "outputs": [
    {
     "data": {
      "text/plain": [
       "[1, 5, 3, 4, 2]"
      ]
     },
     "execution_count": 26,
     "metadata": {},
     "output_type": "execute_result"
    }
   ],
   "source": [
    "nums = [1,5,3,4,2]\n",
    "nums"
   ]
  },
  {
   "cell_type": "code",
   "execution_count": 27,
   "id": "ebb2a3a2",
   "metadata": {},
   "outputs": [
    {
     "data": {
      "text/plain": [
       "[1, 2, 3, 4, 5]"
      ]
     },
     "execution_count": 27,
     "metadata": {},
     "output_type": "execute_result"
    }
   ],
   "source": [
    "# Sorting\n",
    "nums.sort()\n",
    "nums"
   ]
  },
  {
   "cell_type": "code",
   "execution_count": 28,
   "id": "8b2beaf2",
   "metadata": {},
   "outputs": [
    {
     "data": {
      "text/plain": [
       "1"
      ]
     },
     "execution_count": 28,
     "metadata": {},
     "output_type": "execute_result"
    }
   ],
   "source": [
    "min(nums)"
   ]
  },
  {
   "cell_type": "code",
   "execution_count": 29,
   "id": "0eb4f77f",
   "metadata": {},
   "outputs": [
    {
     "data": {
      "text/plain": [
       "5"
      ]
     },
     "execution_count": 29,
     "metadata": {},
     "output_type": "execute_result"
    }
   ],
   "source": [
    "max(nums)"
   ]
  },
  {
   "cell_type": "code",
   "execution_count": 30,
   "id": "f1881cf5",
   "metadata": {},
   "outputs": [
    {
     "data": {
      "text/plain": [
       "15"
      ]
     },
     "execution_count": 30,
     "metadata": {},
     "output_type": "execute_result"
    }
   ],
   "source": [
    "sum(nums)"
   ]
  },
  {
   "cell_type": "markdown",
   "id": "244df5d5",
   "metadata": {},
   "source": [
    "### Looping Through Lists"
   ]
  },
  {
   "cell_type": "code",
   "execution_count": 31,
   "id": "9c1f1b72",
   "metadata": {},
   "outputs": [
    {
     "name": "stdout",
     "output_type": "stream",
     "text": [
      "History\n",
      "Math\n",
      "Physics\n",
      "CompSci\n"
     ]
    }
   ],
   "source": [
    "courses = ['History', 'Math' , 'Physics' , 'CompSci']\n",
    "for item in courses:\n",
    "    print(item)"
   ]
  },
  {
   "cell_type": "code",
   "execution_count": 32,
   "id": "0284fe26",
   "metadata": {},
   "outputs": [
    {
     "name": "stdout",
     "output_type": "stream",
     "text": [
      "0 History\n",
      "1 Math\n",
      "2 Physics\n",
      "3 CompSci\n"
     ]
    }
   ],
   "source": [
    "courses = ['History', 'Math' , 'Physics' , 'CompSci']\n",
    "for index,item in enumerate(courses):\n",
    "    print(index,item)"
   ]
  },
  {
   "cell_type": "markdown",
   "id": "4be77dc9",
   "metadata": {},
   "source": [
    "### Lists to Strings"
   ]
  },
  {
   "cell_type": "code",
   "execution_count": 33,
   "id": "c5d7233f",
   "metadata": {},
   "outputs": [
    {
     "data": {
      "text/plain": [
       "\"['History', 'Math', 'Physics', 'CompSci']\""
      ]
     },
     "execution_count": 33,
     "metadata": {},
     "output_type": "execute_result"
    }
   ],
   "source": [
    "str(courses)"
   ]
  },
  {
   "cell_type": "code",
   "execution_count": 34,
   "id": "d4532ced",
   "metadata": {},
   "outputs": [
    {
     "data": {
      "text/plain": [
       "'History, Math, Physics, CompSci'"
      ]
     },
     "execution_count": 34,
     "metadata": {},
     "output_type": "execute_result"
    }
   ],
   "source": [
    "courses = ['History', 'Math' , 'Physics' , 'CompSci']\n",
    "courses_str = \", \".join(courses)\n",
    "courses_str"
   ]
  },
  {
   "cell_type": "code",
   "execution_count": null,
   "id": "403cfd40",
   "metadata": {},
   "outputs": [],
   "source": []
  },
  {
   "cell_type": "markdown",
   "id": "e20932a6",
   "metadata": {},
   "source": [
    "### List Comprehensions"
   ]
  },
  {
   "cell_type": "code",
   "execution_count": 35,
   "id": "ae3c1e5a",
   "metadata": {},
   "outputs": [
    {
     "data": {
      "text/plain": [
       "['a1',\n",
       " 'a2',\n",
       " 'a3',\n",
       " 'a4',\n",
       " 'b1',\n",
       " 'b2',\n",
       " 'b3',\n",
       " 'b4',\n",
       " 'c1',\n",
       " 'c2',\n",
       " 'c3',\n",
       " 'c4',\n",
       " 'd1',\n",
       " 'd2',\n",
       " 'd3',\n",
       " 'd4']"
      ]
     },
     "execution_count": 35,
     "metadata": {},
     "output_type": "execute_result"
    }
   ],
   "source": [
    "alphabets = \"abcd\"\n",
    "digits = \"1234\"\n",
    "\n",
    "employee_id = [x + y for x in alphabets for y in digits]\n",
    "employee_id"
   ]
  },
  {
   "cell_type": "code",
   "execution_count": null,
   "id": "162df439",
   "metadata": {},
   "outputs": [],
   "source": []
  }
 ],
 "metadata": {
  "kernelspec": {
   "display_name": "Python 3 (ipykernel)",
   "language": "python",
   "name": "python3"
  },
  "language_info": {
   "codemirror_mode": {
    "name": "ipython",
    "version": 3
   },
   "file_extension": ".py",
   "mimetype": "text/x-python",
   "name": "python",
   "nbconvert_exporter": "python",
   "pygments_lexer": "ipython3",
   "version": "3.8.12"
  }
 },
 "nbformat": 4,
 "nbformat_minor": 5
}
