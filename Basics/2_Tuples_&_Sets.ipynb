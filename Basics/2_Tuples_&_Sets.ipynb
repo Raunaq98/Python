{
 "cells": [
  {
   "cell_type": "markdown",
   "id": "473d9ef1",
   "metadata": {},
   "source": [
    "# TUPLES"
   ]
  },
  {
   "cell_type": "markdown",
   "id": "ff074592",
   "metadata": {},
   "source": [
    "Tuples are identical to lists in all respects, except for the following properties:\n",
    "\n",
    "- Tuples are defined by enclosing the elements in parentheses (()) instead of square brackets ([]).\n",
    "- Tuples are immutable."
   ]
  },
  {
   "cell_type": "markdown",
   "id": "663f9169",
   "metadata": {},
   "source": [
    "### Mutability - Lists"
   ]
  },
  {
   "cell_type": "code",
   "execution_count": 1,
   "id": "cd572aeb",
   "metadata": {},
   "outputs": [],
   "source": [
    "list_1 = ['History','Math','Physics','CompSci']\n",
    "list_2 = list_1"
   ]
  },
  {
   "cell_type": "code",
   "execution_count": 2,
   "id": "223a6faa",
   "metadata": {},
   "outputs": [
    {
     "name": "stdout",
     "output_type": "stream",
     "text": [
      "['History', 'Math', 'Physics', 'CompSci']\n",
      "['History', 'Math', 'Physics', 'CompSci']\n"
     ]
    }
   ],
   "source": [
    "print(list_1)\n",
    "print(list_2)"
   ]
  },
  {
   "cell_type": "code",
   "execution_count": 3,
   "id": "435cc33c",
   "metadata": {},
   "outputs": [
    {
     "name": "stdout",
     "output_type": "stream",
     "text": [
      "['Art', 'Math', 'Physics', 'CompSci']\n",
      "['Art', 'Math', 'Physics', 'CompSci']\n"
     ]
    }
   ],
   "source": [
    "# Changing a value in list 1\n",
    "list_1[0] = 'Art'\n",
    "print(list_1)\n",
    "print(list_2)"
   ]
  },
  {
   "cell_type": "markdown",
   "id": "550c473e",
   "metadata": {},
   "source": [
    "### Immutability - Tuples"
   ]
  },
  {
   "cell_type": "code",
   "execution_count": 4,
   "id": "4e32a541",
   "metadata": {},
   "outputs": [],
   "source": [
    "tuple_1 = ('History','Math','Physics','CompSci')\n",
    "tuple_2 = tuple_1"
   ]
  },
  {
   "cell_type": "code",
   "execution_count": 5,
   "id": "171f941b",
   "metadata": {},
   "outputs": [
    {
     "name": "stdout",
     "output_type": "stream",
     "text": [
      "('History', 'Math', 'Physics', 'CompSci')\n",
      "('History', 'Math', 'Physics', 'CompSci')\n"
     ]
    }
   ],
   "source": [
    "print(tuple_1)\n",
    "print(tuple_2)"
   ]
  },
  {
   "cell_type": "code",
   "execution_count": 6,
   "id": "4993269c",
   "metadata": {},
   "outputs": [
    {
     "ename": "TypeError",
     "evalue": "'tuple' object does not support item assignment",
     "output_type": "error",
     "traceback": [
      "\u001b[1;31m---------------------------------------------------------------------------\u001b[0m",
      "\u001b[1;31mTypeError\u001b[0m                                 Traceback (most recent call last)",
      "\u001b[1;32m~\\AppData\\Local\\Temp/ipykernel_13336/2319922070.py\u001b[0m in \u001b[0;36m<module>\u001b[1;34m\u001b[0m\n\u001b[0;32m      1\u001b[0m \u001b[1;31m# Changing a value in tuple 1 -- IMMUTABLE\u001b[0m\u001b[1;33m\u001b[0m\u001b[1;33m\u001b[0m\u001b[1;33m\u001b[0m\u001b[0m\n\u001b[1;32m----> 2\u001b[1;33m \u001b[0mtuple_1\u001b[0m\u001b[1;33m[\u001b[0m\u001b[1;36m0\u001b[0m\u001b[1;33m]\u001b[0m \u001b[1;33m=\u001b[0m \u001b[1;34m'Art'\u001b[0m\u001b[1;33m\u001b[0m\u001b[1;33m\u001b[0m\u001b[0m\n\u001b[0m",
      "\u001b[1;31mTypeError\u001b[0m: 'tuple' object does not support item assignment"
     ]
    }
   ],
   "source": [
    "# Changing a value in tuple 1 -- IMMUTABLE\n",
    "tuple_1[0] = 'Art'"
   ]
  },
  {
   "cell_type": "markdown",
   "id": "afa8a03e",
   "metadata": {},
   "source": [
    "# SETS"
   ]
  },
  {
   "cell_type": "markdown",
   "id": "fe68b037",
   "metadata": {},
   "source": [
    "Python’s built-in set type has the following characteristics:\n",
    "\n",
    "- Sets are unordered.\n",
    "- Set elements are unique. Duplicate elements are not allowed.\n",
    "- A set itself may be modified, but the elements contained in the set must be of an immutable type."
   ]
  },
  {
   "cell_type": "markdown",
   "id": "2b073bb9",
   "metadata": {},
   "source": [
    "### Unordered"
   ]
  },
  {
   "cell_type": "code",
   "execution_count": 7,
   "id": "53d5cff0",
   "metadata": {},
   "outputs": [
    {
     "data": {
      "text/plain": [
       "{'CompSci', 'History', 'Math', 'Physics'}"
      ]
     },
     "execution_count": 7,
     "metadata": {},
     "output_type": "execute_result"
    }
   ],
   "source": [
    "cs_courses = {'History','Math','Physics','CompSci'}\n",
    "cs_courses"
   ]
  },
  {
   "cell_type": "markdown",
   "id": "05b6cec3",
   "metadata": {},
   "source": [
    "### No Duplicates"
   ]
  },
  {
   "cell_type": "code",
   "execution_count": 8,
   "id": "c480d255",
   "metadata": {},
   "outputs": [
    {
     "data": {
      "text/plain": [
       "{'CompSci', 'History', 'Math', 'Physics'}"
      ]
     },
     "execution_count": 8,
     "metadata": {},
     "output_type": "execute_result"
    }
   ],
   "source": [
    "cs_courses = {'History','Math','Physics','CompSci','Math'}\n",
    "cs_courses"
   ]
  },
  {
   "cell_type": "markdown",
   "id": "5b2799fc",
   "metadata": {},
   "source": [
    "### Membership Test - To check if an element belongs to a set"
   ]
  },
  {
   "cell_type": "code",
   "execution_count": 9,
   "id": "26551d8a",
   "metadata": {},
   "outputs": [
    {
     "data": {
      "text/plain": [
       "True"
      ]
     },
     "execution_count": 9,
     "metadata": {},
     "output_type": "execute_result"
    }
   ],
   "source": [
    "'Math' in cs_courses"
   ]
  },
  {
   "cell_type": "markdown",
   "id": "13b64052",
   "metadata": {},
   "source": [
    "### Check if certain elements are shared or not shared with a different Set"
   ]
  },
  {
   "cell_type": "code",
   "execution_count": 10,
   "id": "98e1afea",
   "metadata": {},
   "outputs": [],
   "source": [
    "cs_courses = {'History','Math','Physics','CompSci'}\n",
    "art_courses = {'History','Math','Art','Design'}"
   ]
  },
  {
   "cell_type": "code",
   "execution_count": 11,
   "id": "52118744",
   "metadata": {},
   "outputs": [
    {
     "data": {
      "text/plain": [
       "{'History', 'Math'}"
      ]
     },
     "execution_count": 11,
     "metadata": {},
     "output_type": "execute_result"
    }
   ],
   "source": [
    "cs_courses.intersection(art_courses)"
   ]
  },
  {
   "cell_type": "code",
   "execution_count": 12,
   "id": "76dfee4f",
   "metadata": {},
   "outputs": [
    {
     "data": {
      "text/plain": [
       "{'CompSci', 'Physics'}"
      ]
     },
     "execution_count": 12,
     "metadata": {},
     "output_type": "execute_result"
    }
   ],
   "source": [
    "cs_courses.difference(art_courses)"
   ]
  },
  {
   "cell_type": "code",
   "execution_count": 13,
   "id": "c8a16245",
   "metadata": {},
   "outputs": [
    {
     "data": {
      "text/plain": [
       "{'Art', 'CompSci', 'Design', 'History', 'Math', 'Physics'}"
      ]
     },
     "execution_count": 13,
     "metadata": {},
     "output_type": "execute_result"
    }
   ],
   "source": [
    "# all possible courses from both sets\n",
    "cs_courses.union(art_courses)"
   ]
  },
  {
   "cell_type": "code",
   "execution_count": null,
   "id": "f5e5b2f4",
   "metadata": {},
   "outputs": [],
   "source": []
  }
 ],
 "metadata": {
  "kernelspec": {
   "display_name": "Python 3 (ipykernel)",
   "language": "python",
   "name": "python3"
  },
  "language_info": {
   "codemirror_mode": {
    "name": "ipython",
    "version": 3
   },
   "file_extension": ".py",
   "mimetype": "text/x-python",
   "name": "python",
   "nbconvert_exporter": "python",
   "pygments_lexer": "ipython3",
   "version": "3.8.12"
  }
 },
 "nbformat": 4,
 "nbformat_minor": 5
}
