{
 "cells": [
  {
   "cell_type": "markdown",
   "id": "e7e6d373",
   "metadata": {},
   "source": [
    "# DICTIONARY"
   ]
  },
  {
   "cell_type": "markdown",
   "id": "8b56ab3d",
   "metadata": {},
   "source": [
    "Dictionaries are used to store data values in key:value pairs.\n",
    "\n",
    "A dictionary is a collection which is ordered, changeable and do not allow duplicates."
   ]
  },
  {
   "cell_type": "code",
   "execution_count": 1,
   "id": "12d08801",
   "metadata": {},
   "outputs": [],
   "source": [
    "student = {'name':'John',\n",
    "          'age':25,\n",
    "          'courses':['Math','CompSci']}"
   ]
  },
  {
   "cell_type": "code",
   "execution_count": 2,
   "id": "b0fc0688",
   "metadata": {},
   "outputs": [
    {
     "data": {
      "text/plain": [
       "{'name': 'John', 'age': 25, 'courses': ['Math', 'CompSci']}"
      ]
     },
     "execution_count": 2,
     "metadata": {},
     "output_type": "execute_result"
    }
   ],
   "source": [
    "student"
   ]
  },
  {
   "cell_type": "markdown",
   "id": "7f17127d",
   "metadata": {},
   "source": [
    "### Accessing a Key"
   ]
  },
  {
   "cell_type": "code",
   "execution_count": 3,
   "id": "aaed8dc8",
   "metadata": {},
   "outputs": [
    {
     "data": {
      "text/plain": [
       "'John'"
      ]
     },
     "execution_count": 3,
     "metadata": {},
     "output_type": "execute_result"
    }
   ],
   "source": [
    "student['name']"
   ]
  },
  {
   "cell_type": "code",
   "execution_count": 4,
   "id": "ecd34108",
   "metadata": {},
   "outputs": [
    {
     "data": {
      "text/plain": [
       "25"
      ]
     },
     "execution_count": 4,
     "metadata": {},
     "output_type": "execute_result"
    }
   ],
   "source": [
    "student['age']"
   ]
  },
  {
   "cell_type": "code",
   "execution_count": 5,
   "id": "466ebe3a",
   "metadata": {},
   "outputs": [
    {
     "data": {
      "text/plain": [
       "'John'"
      ]
     },
     "execution_count": 5,
     "metadata": {},
     "output_type": "execute_result"
    }
   ],
   "source": [
    "student.get('name')"
   ]
  },
  {
   "cell_type": "code",
   "execution_count": 6,
   "id": "0fb3e322",
   "metadata": {},
   "outputs": [
    {
     "data": {
      "text/plain": [
       "25"
      ]
     },
     "execution_count": 6,
     "metadata": {},
     "output_type": "execute_result"
    }
   ],
   "source": [
    "student.get('age')"
   ]
  },
  {
   "cell_type": "markdown",
   "id": "0cf2cb0f",
   "metadata": {},
   "source": [
    "### Access errors when Key is not present"
   ]
  },
  {
   "cell_type": "code",
   "execution_count": 7,
   "id": "df61e0da",
   "metadata": {},
   "outputs": [
    {
     "ename": "KeyError",
     "evalue": "'phone'",
     "output_type": "error",
     "traceback": [
      "\u001b[1;31m---------------------------------------------------------------------------\u001b[0m",
      "\u001b[1;31mKeyError\u001b[0m                                  Traceback (most recent call last)",
      "\u001b[1;32m~\\AppData\\Local\\Temp/ipykernel_23048/2835452123.py\u001b[0m in \u001b[0;36m<module>\u001b[1;34m\u001b[0m\n\u001b[1;32m----> 1\u001b[1;33m \u001b[0mstudent\u001b[0m\u001b[1;33m[\u001b[0m\u001b[1;34m'phone'\u001b[0m\u001b[1;33m]\u001b[0m\u001b[1;33m\u001b[0m\u001b[1;33m\u001b[0m\u001b[0m\n\u001b[0m",
      "\u001b[1;31mKeyError\u001b[0m: 'phone'"
     ]
    }
   ],
   "source": [
    "student['phone']"
   ]
  },
  {
   "cell_type": "code",
   "execution_count": 8,
   "id": "0b2f2dd8",
   "metadata": {},
   "outputs": [
    {
     "name": "stdout",
     "output_type": "stream",
     "text": [
      "None\n"
     ]
    }
   ],
   "source": [
    "# instead, we want an output like NULL etc\n",
    "print(student.get('phone'))"
   ]
  },
  {
   "cell_type": "code",
   "execution_count": 9,
   "id": "49749bd8",
   "metadata": {},
   "outputs": [
    {
     "data": {
      "text/plain": [
       "'Not Found'"
      ]
     },
     "execution_count": 9,
     "metadata": {},
     "output_type": "execute_result"
    }
   ],
   "source": [
    "student.get('phone','Not Found')"
   ]
  },
  {
   "cell_type": "markdown",
   "id": "acdc8fac",
   "metadata": {},
   "source": [
    "### Adding a new pair"
   ]
  },
  {
   "cell_type": "code",
   "execution_count": 10,
   "id": "c85deae5",
   "metadata": {},
   "outputs": [
    {
     "data": {
      "text/plain": [
       "{'name': 'John',\n",
       " 'age': 25,\n",
       " 'courses': ['Math', 'CompSci'],\n",
       " 'phone': '647-870-4175'}"
      ]
     },
     "execution_count": 10,
     "metadata": {},
     "output_type": "execute_result"
    }
   ],
   "source": [
    "student['phone'] = '647-870-4175'\n",
    "student"
   ]
  },
  {
   "cell_type": "markdown",
   "id": "b1c5d722",
   "metadata": {},
   "source": [
    "### Dropping a Key"
   ]
  },
  {
   "cell_type": "code",
   "execution_count": 11,
   "id": "cc025c76",
   "metadata": {},
   "outputs": [
    {
     "data": {
      "text/plain": [
       "{'name': 'John', 'age': 25, 'courses': ['Math', 'CompSci']}"
      ]
     },
     "execution_count": 11,
     "metadata": {},
     "output_type": "execute_result"
    }
   ],
   "source": [
    "del student['phone']\n",
    "student"
   ]
  },
  {
   "cell_type": "markdown",
   "id": "de622c36",
   "metadata": {},
   "source": [
    "### Accessing Keys"
   ]
  },
  {
   "cell_type": "code",
   "execution_count": 12,
   "id": "76f5b4a2",
   "metadata": {},
   "outputs": [
    {
     "data": {
      "text/plain": [
       "dict_keys(['name', 'age', 'courses'])"
      ]
     },
     "execution_count": 12,
     "metadata": {},
     "output_type": "execute_result"
    }
   ],
   "source": [
    "student.keys()"
   ]
  },
  {
   "cell_type": "markdown",
   "id": "ed6f01a3",
   "metadata": {},
   "source": [
    "### Accessing Values"
   ]
  },
  {
   "cell_type": "code",
   "execution_count": 13,
   "id": "df7a3b52",
   "metadata": {},
   "outputs": [
    {
     "data": {
      "text/plain": [
       "dict_values(['John', 25, ['Math', 'CompSci']])"
      ]
     },
     "execution_count": 13,
     "metadata": {},
     "output_type": "execute_result"
    }
   ],
   "source": [
    "student.values()"
   ]
  },
  {
   "cell_type": "markdown",
   "id": "2efdeed4",
   "metadata": {},
   "source": [
    "### Accessing all Pairs"
   ]
  },
  {
   "cell_type": "code",
   "execution_count": 14,
   "id": "3a99e412",
   "metadata": {},
   "outputs": [
    {
     "data": {
      "text/plain": [
       "dict_items([('name', 'John'), ('age', 25), ('courses', ['Math', 'CompSci'])])"
      ]
     },
     "execution_count": 14,
     "metadata": {},
     "output_type": "execute_result"
    }
   ],
   "source": [
    "student.items()"
   ]
  },
  {
   "cell_type": "markdown",
   "id": "561908e1",
   "metadata": {},
   "source": [
    "### Iterating over a dictionary"
   ]
  },
  {
   "cell_type": "code",
   "execution_count": 15,
   "id": "5f83f0ea",
   "metadata": {},
   "outputs": [
    {
     "data": {
      "text/plain": [
       "{'a': 'A', 'b': 'B', 'c': 'C'}"
      ]
     },
     "execution_count": 15,
     "metadata": {},
     "output_type": "execute_result"
    }
   ],
   "source": [
    "x = {\"a\" : \"A\",\n",
    "    \"b\" : \"B\",\n",
    "    \"c\" : \"C\"}\n",
    "\n",
    "x"
   ]
  },
  {
   "cell_type": "code",
   "execution_count": 16,
   "id": "14476dd7",
   "metadata": {},
   "outputs": [
    {
     "name": "stdout",
     "output_type": "stream",
     "text": [
      "A\n",
      "B\n",
      "C\n"
     ]
    }
   ],
   "source": [
    "# Iterating over only keys\n",
    "for lower_caps in x:\n",
    "    print( x[lower_caps])"
   ]
  },
  {
   "cell_type": "code",
   "execution_count": 17,
   "id": "fac83a86",
   "metadata": {},
   "outputs": [
    {
     "name": "stdout",
     "output_type": "stream",
     "text": [
      "A\n",
      "B\n",
      "C\n"
     ]
    }
   ],
   "source": [
    "# Iterating over only values\n",
    "for upper_caps in x.values():\n",
    "    print(upper_caps)"
   ]
  },
  {
   "cell_type": "code",
   "execution_count": 18,
   "id": "0a179c04",
   "metadata": {},
   "outputs": [
    {
     "name": "stdout",
     "output_type": "stream",
     "text": [
      "a A\n",
      "b B\n",
      "c C\n"
     ]
    }
   ],
   "source": [
    "# Ierating over keys and values\n",
    "for lower_caps, upper_caps in x.items():\n",
    "    print(lower_caps,upper_caps)"
   ]
  },
  {
   "cell_type": "code",
   "execution_count": null,
   "id": "1f192f0c",
   "metadata": {},
   "outputs": [],
   "source": []
  }
 ],
 "metadata": {
  "kernelspec": {
   "display_name": "Python 3 (ipykernel)",
   "language": "python",
   "name": "python3"
  },
  "language_info": {
   "codemirror_mode": {
    "name": "ipython",
    "version": 3
   },
   "file_extension": ".py",
   "mimetype": "text/x-python",
   "name": "python",
   "nbconvert_exporter": "python",
   "pygments_lexer": "ipython3",
   "version": "3.8.12"
  }
 },
 "nbformat": 4,
 "nbformat_minor": 5
}
