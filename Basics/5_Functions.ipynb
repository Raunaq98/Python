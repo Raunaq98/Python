{
 "cells": [
  {
   "cell_type": "markdown",
   "id": "4c203fef",
   "metadata": {},
   "source": [
    "# FUNCTIONS"
   ]
  },
  {
   "cell_type": "markdown",
   "id": "26e9b90c",
   "metadata": {},
   "source": [
    "#### No arguments and no body"
   ]
  },
  {
   "cell_type": "code",
   "execution_count": 1,
   "id": "896e2c50",
   "metadata": {},
   "outputs": [],
   "source": [
    "def hello_func():\n",
    "    pass"
   ]
  },
  {
   "cell_type": "code",
   "execution_count": 2,
   "id": "a1d31a90",
   "metadata": {},
   "outputs": [],
   "source": [
    "hello_func()"
   ]
  },
  {
   "cell_type": "markdown",
   "id": "16c28f8a",
   "metadata": {},
   "source": [
    "#### No arguments"
   ]
  },
  {
   "cell_type": "code",
   "execution_count": 3,
   "id": "8ed74561",
   "metadata": {},
   "outputs": [],
   "source": [
    "def hello_func():\n",
    "    print('Hello World')"
   ]
  },
  {
   "cell_type": "code",
   "execution_count": 4,
   "id": "58cef137",
   "metadata": {},
   "outputs": [
    {
     "name": "stdout",
     "output_type": "stream",
     "text": [
      "Hello World\n"
     ]
    }
   ],
   "source": [
    "hello_func()"
   ]
  },
  {
   "cell_type": "markdown",
   "id": "525ab60c",
   "metadata": {},
   "source": [
    "#### Functions with Arguments"
   ]
  },
  {
   "cell_type": "code",
   "execution_count": 5,
   "id": "34618080",
   "metadata": {},
   "outputs": [],
   "source": [
    "def hello_func(greeting):\n",
    "    return '{} Function.'.format(greeting)"
   ]
  },
  {
   "cell_type": "code",
   "execution_count": 6,
   "id": "4e5878b3",
   "metadata": {},
   "outputs": [
    {
     "data": {
      "text/plain": [
       "'hi Function.'"
      ]
     },
     "execution_count": 6,
     "metadata": {},
     "output_type": "execute_result"
    }
   ],
   "source": [
    "hello_func('hi')"
   ]
  },
  {
   "cell_type": "markdown",
   "id": "4e97a7da",
   "metadata": {},
   "source": [
    "#### Arguments with Default Value"
   ]
  },
  {
   "cell_type": "code",
   "execution_count": 7,
   "id": "9f86c08a",
   "metadata": {},
   "outputs": [],
   "source": [
    "def hello_func(greeting,name = 'You'):\n",
    "    return '{}, {}'.format(greeting,name)"
   ]
  },
  {
   "cell_type": "code",
   "execution_count": 8,
   "id": "1f312545",
   "metadata": {},
   "outputs": [
    {
     "data": {
      "text/plain": [
       "'hi, You'"
      ]
     },
     "execution_count": 8,
     "metadata": {},
     "output_type": "execute_result"
    }
   ],
   "source": [
    "hello_func('hi')"
   ]
  },
  {
   "cell_type": "code",
   "execution_count": 9,
   "id": "e09c1534",
   "metadata": {},
   "outputs": [
    {
     "data": {
      "text/plain": [
       "'hi, Jon'"
      ]
     },
     "execution_count": 9,
     "metadata": {},
     "output_type": "execute_result"
    }
   ],
   "source": [
    "hello_func('hi','Jon')"
   ]
  },
  {
   "cell_type": "markdown",
   "id": "eff43644",
   "metadata": {},
   "source": [
    "# Args and Kwargs"
   ]
  },
  {
   "cell_type": "markdown",
   "id": "811cdcf1",
   "metadata": {},
   "source": [
    "Args and Kwargs allow you to pass multiple arguments or keyword arguments to a function. Consider the following example. This is a simple function that takes two arguments and returns their sum:"
   ]
  },
  {
   "cell_type": "code",
   "execution_count": 10,
   "id": "88da9cab",
   "metadata": {},
   "outputs": [],
   "source": [
    "def my_sum(a, b):\n",
    "    return a + b"
   ]
  },
  {
   "cell_type": "code",
   "execution_count": 11,
   "id": "57ad9d86",
   "metadata": {},
   "outputs": [
    {
     "data": {
      "text/plain": [
       "5"
      ]
     },
     "execution_count": 11,
     "metadata": {},
     "output_type": "execute_result"
    }
   ],
   "source": [
    "my_sum(2,3)"
   ]
  },
  {
   "cell_type": "markdown",
   "id": "22c84ee4",
   "metadata": {},
   "source": [
    "This function works fine, but it’s limited to only two arguments. What if you need to sum a varying number of arguments, where the specific number of arguments passed is only determined at runtime? "
   ]
  },
  {
   "cell_type": "markdown",
   "id": "38b2d7f5",
   "metadata": {},
   "source": [
    "#### Args"
   ]
  },
  {
   "cell_type": "markdown",
   "id": "7cb85364",
   "metadata": {},
   "source": [
    "One way to deal with this would be to pass a list or set of all arguments to the function."
   ]
  },
  {
   "cell_type": "code",
   "execution_count": 12,
   "id": "e992bfc7",
   "metadata": {},
   "outputs": [
    {
     "name": "stdout",
     "output_type": "stream",
     "text": [
      "6\n"
     ]
    }
   ],
   "source": [
    "def my_sum(my_integers):\n",
    "    result = 0\n",
    "    for x in my_integers:\n",
    "        result += x\n",
    "    return result\n",
    "\n",
    "list_of_integers = [1, 2, 3]\n",
    "print(my_sum(list_of_integers))"
   ]
  },
  {
   "cell_type": "markdown",
   "id": "934f33c6",
   "metadata": {},
   "source": [
    "This implementation works, but whenever you call this function you’ll also need to create a list of arguments to pass to it. This can be inconvenient, especially if you don’t know up front all the values that should go into the list. This is where **args** can be really useful, because it allows you to pass a varying number of positional arguments. Take the following example:"
   ]
  },
  {
   "cell_type": "code",
   "execution_count": 13,
   "id": "ad4f2d37",
   "metadata": {},
   "outputs": [
    {
     "name": "stdout",
     "output_type": "stream",
     "text": [
      "6\n"
     ]
    }
   ],
   "source": [
    "def my_sum(*args):\n",
    "    result = 0\n",
    "    # Iterating over the Python args tuple\n",
    "    for x in args:\n",
    "        result += x\n",
    "    return result\n",
    "\n",
    "print(my_sum(1, 2, 3))"
   ]
  },
  {
   "cell_type": "markdown",
   "id": "1541396a",
   "metadata": {},
   "source": [
    "Bear in mind that the iterable object you’ll get using the unpacking operator * is not a list but a tuple. A tuple is similar to a list in that they both support slicing and iteration. However, tuples are very different in at least one aspect: lists are mutable, while tuples are not. "
   ]
  },
  {
   "cell_type": "markdown",
   "id": "aa0659f5",
   "metadata": {},
   "source": [
    "#### Kwargs"
   ]
  },
  {
   "cell_type": "markdown",
   "id": "f5863d3c",
   "metadata": {},
   "source": [
    "**kwargs** works just like **args**, but instead of accepting positional arguments it accepts keyword (or named) arguments. Take the following example:"
   ]
  },
  {
   "cell_type": "code",
   "execution_count": 14,
   "id": "c2098dc4",
   "metadata": {},
   "outputs": [
    {
     "name": "stdout",
     "output_type": "stream",
     "text": [
      "RealPythonIsGreat!\n"
     ]
    }
   ],
   "source": [
    "def concatenate(**kwargs):\n",
    "    result = \"\"\n",
    "    # Iterating over the Python kwargs dictionary\n",
    "    for arg in kwargs.values():\n",
    "        result += arg\n",
    "    return result\n",
    "\n",
    "print(concatenate(a=\"Real\", b=\"Python\", c=\"Is\", d=\"Great\", e=\"!\"))"
   ]
  },
  {
   "cell_type": "markdown",
   "id": "2059354c",
   "metadata": {},
   "source": [
    "#### Args and Kwargs"
   ]
  },
  {
   "cell_type": "code",
   "execution_count": 15,
   "id": "ceb8bc16",
   "metadata": {},
   "outputs": [],
   "source": [
    "def student_info(*args, **kwargs):\n",
    "    print(args)\n",
    "    print(kwargs)"
   ]
  },
  {
   "cell_type": "code",
   "execution_count": 16,
   "id": "e593087e",
   "metadata": {},
   "outputs": [
    {
     "name": "stdout",
     "output_type": "stream",
     "text": [
      "('Math', 'Art')\n",
      "{'name': 'John', 'age': '22'}\n"
     ]
    }
   ],
   "source": [
    "student_info('Math','Art', name = 'John', age='22')"
   ]
  },
  {
   "cell_type": "code",
   "execution_count": 17,
   "id": "321bb67a",
   "metadata": {},
   "outputs": [
    {
     "name": "stdout",
     "output_type": "stream",
     "text": [
      "(['Math', 'Art'], {'name': 'John', 'age': 22})\n",
      "{}\n"
     ]
    }
   ],
   "source": [
    "courses = ['Math','Art']\n",
    "info = {'name':'John', 'age':22}\n",
    "\n",
    "student_info(courses,info)"
   ]
  },
  {
   "cell_type": "code",
   "execution_count": 18,
   "id": "ed7a3283",
   "metadata": {},
   "outputs": [
    {
     "name": "stdout",
     "output_type": "stream",
     "text": [
      "('Math', 'Art')\n",
      "{'name': 'John', 'age': 22}\n"
     ]
    }
   ],
   "source": [
    "courses = ['Math','Art']\n",
    "info = {'name':'John', 'age':22}\n",
    "\n",
    "student_info(*courses,**info)"
   ]
  },
  {
   "cell_type": "code",
   "execution_count": null,
   "id": "2187417b",
   "metadata": {},
   "outputs": [],
   "source": []
  }
 ],
 "metadata": {
  "kernelspec": {
   "display_name": "Python 3 (ipykernel)",
   "language": "python",
   "name": "python3"
  },
  "language_info": {
   "codemirror_mode": {
    "name": "ipython",
    "version": 3
   },
   "file_extension": ".py",
   "mimetype": "text/x-python",
   "name": "python",
   "nbconvert_exporter": "python",
   "pygments_lexer": "ipython3",
   "version": "3.8.12"
  }
 },
 "nbformat": 4,
 "nbformat_minor": 5
}
