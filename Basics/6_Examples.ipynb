{
 "cells": [
  {
   "cell_type": "markdown",
   "id": "8e63f409",
   "metadata": {},
   "source": [
    "##### Write a Python program to print the following string in a specific format (see the output)\n",
    "Sample String : \"Twinkle, twinkle, little star, How I wonder what you are! Up above the world so high, Like a diamond in the sky. Twinkle, twinkle, little star, How I wonder what you are\" Output :\n",
    "\n",
    "Twinkle, twinkle, little star,\n",
    "\tHow I wonder what you are! \n",
    "\t\tUp above the world so high,   \t\t\n",
    "\t\tLike a diamond in the sky. \n",
    "Twinkle, twinkle, little star, \n",
    "\tHow I wonder what you are\n",
    "    \n",
    "    \n",
    "    \\t                    Tab\n",
    "    \\\\                    Inserts a back slash (\\)\n",
    "    \\'                    Inserts a single quote (')\n",
    "    \\\"                    Inserts a double quote (\")\n",
    "    \\n                    Inserts a ASCII Linefeed (a new line)"
   ]
  },
  {
   "cell_type": "code",
   "execution_count": 1,
   "id": "0928e054",
   "metadata": {},
   "outputs": [
    {
     "name": "stdout",
     "output_type": "stream",
     "text": [
      "Twinkle, twinkle, little star,\n",
      " \t How I wonder what you are! \n",
      " \t \t Up above the world so high, \n",
      " \t \t Like a diamond in the sky. \n",
      " Twinkle, twinkle, little star, \n",
      " \t How I wonder what you are\n"
     ]
    }
   ],
   "source": [
    "print(\"Twinkle, twinkle, little star,\\n \\t How I wonder what you are! \\n \\t \\t Up above the world so high, \\n \\t \\t Like a diamond in the sky. \\n Twinkle, twinkle, little star, \\n \\t How I wonder what you are\")"
   ]
  },
  {
   "cell_type": "markdown",
   "id": "5db3c6e9",
   "metadata": {},
   "source": [
    "##### Write a Python program to get the Python version you are using."
   ]
  },
  {
   "cell_type": "code",
   "execution_count": 2,
   "id": "1f951679",
   "metadata": {},
   "outputs": [
    {
     "data": {
      "text/plain": [
       "'3.8.12 (default, Oct 12 2021, 03:01:40) [MSC v.1916 64 bit (AMD64)]'"
      ]
     },
     "execution_count": 2,
     "metadata": {},
     "output_type": "execute_result"
    }
   ],
   "source": [
    "import sys\n",
    "sys.version"
   ]
  },
  {
   "cell_type": "markdown",
   "id": "25acea2c",
   "metadata": {},
   "source": [
    "##### Write a Python program to display the current date and time."
   ]
  },
  {
   "cell_type": "code",
   "execution_count": 3,
   "id": "6ab46f61",
   "metadata": {},
   "outputs": [
    {
     "data": {
      "text/plain": [
       "'2023-01-20 11:43:53'"
      ]
     },
     "execution_count": 3,
     "metadata": {},
     "output_type": "execute_result"
    }
   ],
   "source": [
    "import datetime\n",
    "\n",
    "current = datetime.datetime.now()\n",
    "current.strftime(\"%Y-%m-%d %H:%M:%S\")"
   ]
  },
  {
   "cell_type": "markdown",
   "id": "31c20552",
   "metadata": {},
   "source": [
    "##### Write a Python program which accepts the radius of a circle from the user and compute the area."
   ]
  },
  {
   "cell_type": "code",
   "execution_count": 4,
   "id": "ad0a174b",
   "metadata": {},
   "outputs": [
    {
     "name": "stdout",
     "output_type": "stream",
     "text": [
      "Enter radius:1\n",
      "The Area of the Circle is: 3.141592653589793\n"
     ]
    }
   ],
   "source": [
    "import math\n",
    "\n",
    "radius = input(\"Enter radius:\")\n",
    "radius = float(radius)\n",
    "area = math.pi*(radius**2)\n",
    "print(\"The Area of the Circle is: {}\".format(area))"
   ]
  },
  {
   "cell_type": "markdown",
   "id": "58e0df5c",
   "metadata": {},
   "source": [
    "##### Write a Python program which accepts the user's first and last name and print them in reverse order with a space between them"
   ]
  },
  {
   "cell_type": "code",
   "execution_count": 5,
   "id": "b140baec",
   "metadata": {},
   "outputs": [
    {
     "name": "stdout",
     "output_type": "stream",
     "text": [
      "Enter First Name: Raunaq\n",
      "Enter Last Name: Bhalla\n",
      "Full Name : Bhalla Raunaq\n"
     ]
    }
   ],
   "source": [
    "first_name = input(\"Enter First Name: \")\n",
    "last_name = input(\"Enter Last Name: \")\n",
    "print(\"Full Name : {} {}\".format(last_name,first_name))"
   ]
  },
  {
   "cell_type": "markdown",
   "id": "1de718ac",
   "metadata": {},
   "source": [
    "##### Write a Python program which accepts a sequence of comma-separated numbers from user and generate a list and a tuple with those numbers."
   ]
  },
  {
   "cell_type": "code",
   "execution_count": 6,
   "id": "9bb57ab1",
   "metadata": {},
   "outputs": [
    {
     "name": "stdout",
     "output_type": "stream",
     "text": [
      "Enter Sequence: 1,2,3,4,5\n",
      "['1', '2', '3', '4', '5']\n",
      "('1', '2', '3', '4', '5')\n"
     ]
    }
   ],
   "source": [
    "seq = input(\"Enter Sequence: \")\n",
    "list = seq.split(\",\")\n",
    "print(list)\n",
    "tuple = tuple(list)\n",
    "print(tuple)"
   ]
  },
  {
   "cell_type": "markdown",
   "id": "250f44bd",
   "metadata": {},
   "source": [
    "##### Write a Python program to accept a filename from the user and print the extension of that"
   ]
  },
  {
   "cell_type": "code",
   "execution_count": 7,
   "id": "87b02ebb",
   "metadata": {},
   "outputs": [
    {
     "name": "stdout",
     "output_type": "stream",
     "text": [
      "Enter File Name:abc.ipynb\n",
      "['abc', 'ipynb']\n",
      "File Extension: ipynb\n"
     ]
    }
   ],
   "source": [
    "file_name = input(\"Enter File Name:\")\n",
    "file_name_name_list = file_name.split(\".\")\n",
    "print(file_name_name_list)\n",
    "print(\"File Extension: {}\".format(file_name_name_list[1]))"
   ]
  },
  {
   "cell_type": "markdown",
   "id": "db5509c4",
   "metadata": {},
   "source": [
    "##### Write a Python program to display the first and last colors from the following list."
   ]
  },
  {
   "cell_type": "code",
   "execution_count": 8,
   "id": "8805e688",
   "metadata": {},
   "outputs": [
    {
     "name": "stdout",
     "output_type": "stream",
     "text": [
      "First Color: Red\n",
      "Last Color: Black\n"
     ]
    }
   ],
   "source": [
    "color_list = [\"Red\",\"Green\",\"White\" ,\"Black\"]\n",
    "print(\"First Color: {}\".format(color_list[0]))\n",
    "print(\"Last Color: {}\".format(color_list[-1]))"
   ]
  },
  {
   "cell_type": "markdown",
   "id": "3e4bf361",
   "metadata": {},
   "source": [
    "##### Write a Python program to display the examination schedule. (extract the date from exam_st_date)"
   ]
  },
  {
   "cell_type": "code",
   "execution_count": 9,
   "id": "62d3e704",
   "metadata": {},
   "outputs": [
    {
     "name": "stdout",
     "output_type": "stream",
     "text": [
      "Exam start date :11/12/2014\n"
     ]
    }
   ],
   "source": [
    "exam_st_date = (11, 12, 2014)\n",
    "\n",
    "print(\"Exam start date :{}/{}/{}\".format(exam_st_date[0],exam_st_date[1],exam_st_date[2]))"
   ]
  },
  {
   "cell_type": "markdown",
   "id": "c17d5d5a",
   "metadata": {},
   "source": [
    "##### Write a Python program that accepts an integer (n) and computes the value of n+nn+nnn."
   ]
  },
  {
   "cell_type": "code",
   "execution_count": 10,
   "id": "43f796aa",
   "metadata": {},
   "outputs": [
    {
     "name": "stdout",
     "output_type": "stream",
     "text": [
      "Enter Number: 2\n",
      "14.0\n"
     ]
    }
   ],
   "source": [
    "n = input(\"Enter Number: \")\n",
    "n = float(n)\n",
    "val = n + n**2 + n**3\n",
    "print(val)"
   ]
  },
  {
   "cell_type": "markdown",
   "id": "191d8069",
   "metadata": {},
   "source": [
    "##### Write a Python program to print the documents (syntax, description etc.) of Python built-in function(s)."
   ]
  },
  {
   "cell_type": "code",
   "execution_count": 11,
   "id": "57593f4b",
   "metadata": {},
   "outputs": [
    {
     "data": {
      "text/plain": [
       "'Return the absolute value of the argument.'"
      ]
     },
     "execution_count": 11,
     "metadata": {},
     "output_type": "execute_result"
    }
   ],
   "source": [
    "abs.__doc__"
   ]
  },
  {
   "cell_type": "markdown",
   "id": "393559d4",
   "metadata": {},
   "source": [
    "##### Write a Python program to print the calendar of a given month and year."
   ]
  },
  {
   "cell_type": "code",
   "execution_count": 3,
   "id": "cc0e6a56",
   "metadata": {},
   "outputs": [
    {
     "name": "stdout",
     "output_type": "stream",
     "text": [
      "Input the year(Integer) : 2023\n",
      "Input the month(Integer) : 01\n",
      "    January 2023\n",
      "Mo Tu We Th Fr Sa Su\n",
      "                   1\n",
      " 2  3  4  5  6  7  8\n",
      " 9 10 11 12 13 14 15\n",
      "16 17 18 19 20 21 22\n",
      "23 24 25 26 27 28 29\n",
      "30 31\n",
      "\n"
     ]
    }
   ],
   "source": [
    "import calendar\n",
    "y = int(input(\"Input the year(Integer) : \"))\n",
    "m = int(input(\"Input the month(Integer) : \"))\n",
    "print(calendar.month(y, m))"
   ]
  },
  {
   "cell_type": "markdown",
   "id": "422f65f6",
   "metadata": {},
   "source": [
    "##### Write a Python program to calculate number of days between two dates."
   ]
  },
  {
   "cell_type": "code",
   "execution_count": 4,
   "id": "f1bb6270",
   "metadata": {},
   "outputs": [
    {
     "name": "stdout",
     "output_type": "stream",
     "text": [
      "9\n"
     ]
    }
   ],
   "source": [
    "from datetime import date\n",
    "\n",
    "f_date = date(2014, 7, 2)\n",
    "l_date = date(2014, 7, 11)\n",
    "delta = l_date - f_date\n",
    "print(delta.days)"
   ]
  },
  {
   "cell_type": "markdown",
   "id": "d042b763",
   "metadata": {},
   "source": [
    "##### Write a Python program to get the difference between a given number and 17, if the number is greater than 17 return double the absolute difference."
   ]
  },
  {
   "cell_type": "code",
   "execution_count": 5,
   "id": "620a41e3",
   "metadata": {},
   "outputs": [
    {
     "name": "stdout",
     "output_type": "stream",
     "text": [
      "Enter Number: \n"
     ]
    },
    {
     "ename": "ValueError",
     "evalue": "could not convert string to float: ''",
     "output_type": "error",
     "traceback": [
      "\u001b[1;31m---------------------------------------------------------------------------\u001b[0m",
      "\u001b[1;31mValueError\u001b[0m                                Traceback (most recent call last)",
      "\u001b[1;32m~\\AppData\\Local\\Temp/ipykernel_16928/375706840.py\u001b[0m in \u001b[0;36m<module>\u001b[1;34m\u001b[0m\n\u001b[1;32m----> 1\u001b[1;33m \u001b[0mnum\u001b[0m \u001b[1;33m=\u001b[0m \u001b[0mfloat\u001b[0m\u001b[1;33m(\u001b[0m\u001b[0minput\u001b[0m\u001b[1;33m(\u001b[0m\u001b[1;34m\"Enter Number: \"\u001b[0m\u001b[1;33m)\u001b[0m\u001b[1;33m)\u001b[0m\u001b[1;33m\u001b[0m\u001b[1;33m\u001b[0m\u001b[0m\n\u001b[0m\u001b[0;32m      2\u001b[0m \u001b[1;32mif\u001b[0m \u001b[0mnum\u001b[0m \u001b[1;33m>\u001b[0m \u001b[1;36m17\u001b[0m\u001b[1;33m:\u001b[0m\u001b[1;33m\u001b[0m\u001b[1;33m\u001b[0m\u001b[0m\n\u001b[0;32m      3\u001b[0m     \u001b[0mprint\u001b[0m\u001b[1;33m(\u001b[0m\u001b[1;34m\"Double of Absolute Difference: {}\"\u001b[0m\u001b[1;33m.\u001b[0m\u001b[0mformat\u001b[0m\u001b[1;33m(\u001b[0m\u001b[0mabs\u001b[0m\u001b[1;33m(\u001b[0m\u001b[0mnum\u001b[0m\u001b[1;33m-\u001b[0m\u001b[1;36m17\u001b[0m\u001b[1;33m)\u001b[0m\u001b[1;33m*\u001b[0m\u001b[1;36m2\u001b[0m\u001b[1;33m)\u001b[0m\u001b[1;33m)\u001b[0m\u001b[1;33m\u001b[0m\u001b[1;33m\u001b[0m\u001b[0m\n\u001b[0;32m      4\u001b[0m \u001b[1;32melse\u001b[0m\u001b[1;33m:\u001b[0m\u001b[1;33m\u001b[0m\u001b[1;33m\u001b[0m\u001b[0m\n\u001b[0;32m      5\u001b[0m     \u001b[0mprint\u001b[0m\u001b[1;33m(\u001b[0m\u001b[1;34m\"Difference: {}\"\u001b[0m\u001b[1;33m.\u001b[0m\u001b[0mformat\u001b[0m\u001b[1;33m(\u001b[0m\u001b[1;36m17\u001b[0m\u001b[1;33m-\u001b[0m\u001b[0mnum\u001b[0m\u001b[1;33m)\u001b[0m\u001b[1;33m)\u001b[0m\u001b[1;33m\u001b[0m\u001b[1;33m\u001b[0m\u001b[0m\n",
      "\u001b[1;31mValueError\u001b[0m: could not convert string to float: ''"
     ]
    }
   ],
   "source": [
    "num = float(input(\"Enter Number: \"))\n",
    "if num > 17:\n",
    "    print(\"Double of Absolute Difference: {}\".format(abs(num-17)*2))\n",
    "else:\n",
    "    print(\"Difference: {}\".format(17-num))"
   ]
  },
  {
   "cell_type": "markdown",
   "id": "05b0d6b5",
   "metadata": {},
   "source": [
    "##### Write a Python program to test whether a number is within 100 of 1000 or 2000"
   ]
  },
  {
   "cell_type": "code",
   "execution_count": 6,
   "id": "97204081",
   "metadata": {},
   "outputs": [
    {
     "name": "stdout",
     "output_type": "stream",
     "text": [
      "Enter a number: \n"
     ]
    },
    {
     "ename": "ValueError",
     "evalue": "invalid literal for int() with base 10: ''",
     "output_type": "error",
     "traceback": [
      "\u001b[1;31m---------------------------------------------------------------------------\u001b[0m",
      "\u001b[1;31mValueError\u001b[0m                                Traceback (most recent call last)",
      "\u001b[1;32m~\\AppData\\Local\\Temp/ipykernel_16928/340152294.py\u001b[0m in \u001b[0;36m<module>\u001b[1;34m\u001b[0m\n\u001b[1;32m----> 1\u001b[1;33m \u001b[0mnum\u001b[0m \u001b[1;33m=\u001b[0m \u001b[0mint\u001b[0m\u001b[1;33m(\u001b[0m\u001b[0minput\u001b[0m\u001b[1;33m(\u001b[0m\u001b[1;34m\"Enter a number: \"\u001b[0m\u001b[1;33m)\u001b[0m\u001b[1;33m)\u001b[0m\u001b[1;33m\u001b[0m\u001b[1;33m\u001b[0m\u001b[0m\n\u001b[0m\u001b[0;32m      2\u001b[0m \u001b[1;32mif\u001b[0m \u001b[1;33m(\u001b[0m\u001b[1;33m(\u001b[0m\u001b[0mabs\u001b[0m\u001b[1;33m(\u001b[0m\u001b[0mnum\u001b[0m\u001b[1;33m-\u001b[0m\u001b[1;36m1000\u001b[0m\u001b[1;33m)\u001b[0m \u001b[1;33m<=\u001b[0m \u001b[1;36m100\u001b[0m\u001b[1;33m)\u001b[0m \u001b[1;32mor\u001b[0m \u001b[1;33m(\u001b[0m\u001b[0mabs\u001b[0m\u001b[1;33m(\u001b[0m\u001b[0mnum\u001b[0m\u001b[1;33m-\u001b[0m\u001b[1;36m2000\u001b[0m\u001b[1;33m)\u001b[0m \u001b[1;33m<=\u001b[0m \u001b[1;36m100\u001b[0m\u001b[1;33m)\u001b[0m\u001b[1;33m)\u001b[0m\u001b[1;33m:\u001b[0m\u001b[1;33m\u001b[0m\u001b[1;33m\u001b[0m\u001b[0m\n\u001b[0;32m      3\u001b[0m     \u001b[0mprint\u001b[0m\u001b[1;33m(\u001b[0m\u001b[1;34m\"{} is within 100 of 1000 or 2000\"\u001b[0m\u001b[1;33m.\u001b[0m\u001b[0mformat\u001b[0m\u001b[1;33m(\u001b[0m\u001b[0mnum\u001b[0m\u001b[1;33m)\u001b[0m\u001b[1;33m)\u001b[0m\u001b[1;33m\u001b[0m\u001b[1;33m\u001b[0m\u001b[0m\n\u001b[0;32m      4\u001b[0m \u001b[1;32melse\u001b[0m\u001b[1;33m:\u001b[0m\u001b[1;33m\u001b[0m\u001b[1;33m\u001b[0m\u001b[0m\n\u001b[0;32m      5\u001b[0m     \u001b[0mprint\u001b[0m\u001b[1;33m(\u001b[0m\u001b[1;34m\"{} is not within 100 of 1000 or 2000\"\u001b[0m\u001b[1;33m.\u001b[0m\u001b[0mformat\u001b[0m\u001b[1;33m(\u001b[0m\u001b[0mnum\u001b[0m\u001b[1;33m)\u001b[0m\u001b[1;33m)\u001b[0m\u001b[1;33m\u001b[0m\u001b[1;33m\u001b[0m\u001b[0m\n",
      "\u001b[1;31mValueError\u001b[0m: invalid literal for int() with base 10: ''"
     ]
    }
   ],
   "source": [
    "num = int(input(\"Enter a number: \"))\n",
    "if ((abs(num-1000) <= 100) or (abs(num-2000) <= 100)):\n",
    "    print(\"{} is within 100 of 1000 or 2000\".format(num))\n",
    "else:\n",
    "    print(\"{} is not within 100 of 1000 or 2000\".format(num))"
   ]
  },
  {
   "cell_type": "markdown",
   "id": "96599d99",
   "metadata": {},
   "source": [
    "##### Write a Python program to calculate the sum of three given numbers, if the values are equal then return three times of their sum."
   ]
  },
  {
   "cell_type": "code",
   "execution_count": null,
   "id": "ebb3f711",
   "metadata": {},
   "outputs": [],
   "source": [
    "def x():\n",
    "    p = float(input(\"Enter First Number: \"))\n",
    "    q = float(input(\"Enter Second Number: \"))\n",
    "    r = float(input(\"Enter Third Number: \"))\n",
    "    if ((p==q) and (q==r)):\n",
    "        print(6*r)\n",
    "    else:\n",
    "        print(p+q+r)"
   ]
  },
  {
   "cell_type": "code",
   "execution_count": null,
   "id": "1f0f42c6",
   "metadata": {},
   "outputs": [],
   "source": [
    "x()"
   ]
  },
  {
   "cell_type": "code",
   "execution_count": null,
   "id": "6bbd0790",
   "metadata": {},
   "outputs": [],
   "source": [
    "x()"
   ]
  },
  {
   "cell_type": "markdown",
   "id": "83f93cfa",
   "metadata": {},
   "source": [
    "##### Write a Python program to get a new string from a given string where \"Is\" has been added to the front. If the given string already begins with \"Is\" then return the string unchanged."
   ]
  },
  {
   "cell_type": "code",
   "execution_count": null,
   "id": "8c0a74be",
   "metadata": {},
   "outputs": [],
   "source": [
    "input_str = str(input(\"Enter a sentence:\"))\n",
    "input_list = input_str.split(\" \")\n",
    "if (input_list[0] == \"is\" or input_list[0] == \"Is\"):\n",
    "    new_string = input_str\n",
    "else:\n",
    "    new_string = \"Is \" + input_str\n",
    "    \n",
    "print(\"Old String : {}\".format(input_str))\n",
    "print(\"New String : {}\".format(new_string))"
   ]
  },
  {
   "cell_type": "code",
   "execution_count": null,
   "id": "6150d4c8",
   "metadata": {},
   "outputs": [],
   "source": [
    "input_str = str(input(\"Enter a sentence:\"))\n",
    "input_list = input_str.split(\" \")\n",
    "if (input_list[0] == \"is\" or input_list[0] == \"Is\"):\n",
    "    new_string = input_str\n",
    "else:\n",
    "    new_string = \"Is \" + input_str\n",
    "    \n",
    "print(\"Old String : {}\".format(input_str))\n",
    "print(\"New String : {}\".format(new_string))"
   ]
  },
  {
   "cell_type": "markdown",
   "id": "f6e49b27",
   "metadata": {},
   "source": [
    "##### Write a Python program to get a string which is n (non-negative integer) copies of a given string."
   ]
  },
  {
   "cell_type": "code",
   "execution_count": null,
   "id": "dc8523b5",
   "metadata": {},
   "outputs": [],
   "source": [
    "def str_multiply(input_str,n):\n",
    "    new_str = str(input_str)*n\n",
    "    print(\"Input String: {}\".format(input_str))\n",
    "    print(\"Input String with {} repetitions: {}\".format(n,new_str))"
   ]
  },
  {
   "cell_type": "code",
   "execution_count": null,
   "id": "fc5c2c61",
   "metadata": {},
   "outputs": [],
   "source": [
    "str_multiply('abc',2)"
   ]
  },
  {
   "cell_type": "markdown",
   "id": "b45c6458",
   "metadata": {},
   "source": [
    "##### Write a Python program to find whether a given number (accept from the user) is even or odd, print out an appropriate message to the user."
   ]
  },
  {
   "cell_type": "code",
   "execution_count": null,
   "id": "32802c0a",
   "metadata": {},
   "outputs": [],
   "source": [
    "num = int(input(\"Enter an integer: \"))\n",
    "if (num % 2==0):\n",
    "    print(\"even\")\n",
    "else:\n",
    "    print(\"odd\")"
   ]
  },
  {
   "cell_type": "code",
   "execution_count": null,
   "id": "ab852ac6",
   "metadata": {},
   "outputs": [],
   "source": [
    "num = int(input(\"Enter an integer: \"))\n",
    "if (num % 2==0):\n",
    "    print(\"even\")\n",
    "else:\n",
    "    print(\"odd\")"
   ]
  },
  {
   "cell_type": "markdown",
   "id": "6cdb098f",
   "metadata": {},
   "source": [
    "##### Write a Python program to count the number 4 in a given list."
   ]
  },
  {
   "cell_type": "code",
   "execution_count": null,
   "id": "cd59f904",
   "metadata": {},
   "outputs": [],
   "source": [
    "my_list = [1,2,3,4,5,4,6,4,7,4]\n",
    "\n",
    "def count_4(input_list):\n",
    "    count = 0\n",
    "    for element in input_list:\n",
    "        if element == 4:\n",
    "            count = count+1\n",
    "    print(count)\n",
    "\n",
    "count_4(my_list)"
   ]
  },
  {
   "cell_type": "markdown",
   "id": "26817a18",
   "metadata": {},
   "source": [
    "##### Write a Python program to get the n (non-negative integer) copies of the first 2 characters of a given string. Return the n copies of the whole string if the length is less than 2."
   ]
  },
  {
   "cell_type": "code",
   "execution_count": null,
   "id": "167c03f6",
   "metadata": {},
   "outputs": [],
   "source": [
    "def str_copy(input_str,n):\n",
    "    input_list=[]\n",
    "    \n",
    "    for i in range(len(input_str)):\n",
    "        input_list.append(input_str[i])\n",
    "        \n",
    "    if len(input_list) <2 :\n",
    "        print(input_str*n)\n",
    "        \n",
    "    else:\n",
    "        first_char = str(input_list[0])\n",
    "        second_char = str(input_list[1])\n",
    "        remaining_char = ''\n",
    "        \n",
    "        for x in input_list[2:]:\n",
    "            remaining_char = str(remaining_char+x)\n",
    "            \n",
    "        print(first_char*n+second_char*n+remaining_char)"
   ]
  },
  {
   "cell_type": "code",
   "execution_count": null,
   "id": "de1866ce",
   "metadata": {},
   "outputs": [],
   "source": [
    "str_copy('abc',2)"
   ]
  },
  {
   "cell_type": "markdown",
   "id": "f65a4feb",
   "metadata": {},
   "source": [
    "##### Write a Python program to test whether a passed letter is a vowel or not."
   ]
  },
  {
   "cell_type": "code",
   "execution_count": null,
   "id": "34f3a015",
   "metadata": {},
   "outputs": [],
   "source": [
    "vowels = ['a','e','i','o','u']\n",
    "\n",
    "def is_vowel(input_alphabet):\n",
    "    if input_alphabet in vowels:\n",
    "        print(\"Vowel\")\n",
    "    else:\n",
    "        print(\"Not a Vowel\")"
   ]
  },
  {
   "cell_type": "code",
   "execution_count": null,
   "id": "f92a4190",
   "metadata": {},
   "outputs": [],
   "source": [
    "is_vowel('a')"
   ]
  },
  {
   "cell_type": "code",
   "execution_count": null,
   "id": "3c0876d2",
   "metadata": {},
   "outputs": [],
   "source": [
    "is_vowel(\"x\")"
   ]
  },
  {
   "cell_type": "markdown",
   "id": "8529ffd9",
   "metadata": {},
   "source": [
    "##### Write a Python program to check whether a specified value is contained in a group of values"
   ]
  },
  {
   "cell_type": "code",
   "execution_count": null,
   "id": "9ca83050",
   "metadata": {},
   "outputs": [],
   "source": [
    "def check_containing(input_list, specific_val):\n",
    "    if specific_val in input_list:\n",
    "        print(\"present\")\n",
    "    else:\n",
    "        print(\"not present\")"
   ]
  },
  {
   "cell_type": "code",
   "execution_count": null,
   "id": "9b780512",
   "metadata": {},
   "outputs": [],
   "source": [
    "check_containing([1,2,3],4)"
   ]
  },
  {
   "cell_type": "code",
   "execution_count": null,
   "id": "670f8cf1",
   "metadata": {},
   "outputs": [],
   "source": [
    "check_containing([1,2,3],1)"
   ]
  },
  {
   "cell_type": "markdown",
   "id": "f345b8ff",
   "metadata": {},
   "source": [
    "##### Write a Python program to create a histogram from a given list of integers."
   ]
  },
  {
   "cell_type": "code",
   "execution_count": null,
   "id": "5033d4b0",
   "metadata": {},
   "outputs": [],
   "source": [
    "def create_hist(input_list):\n",
    "    import matplotlib.pyplot as plt\n",
    "    plt.hist(input_list)"
   ]
  },
  {
   "cell_type": "code",
   "execution_count": null,
   "id": "13756e81",
   "metadata": {},
   "outputs": [],
   "source": [
    "create_hist([1,2,3,3,4,1,3])"
   ]
  },
  {
   "cell_type": "markdown",
   "id": "13ae69cd",
   "metadata": {},
   "source": [
    "##### Write a Python program to concatenate all elements in a list into a string and return it."
   ]
  },
  {
   "cell_type": "code",
   "execution_count": null,
   "id": "fd418514",
   "metadata": {},
   "outputs": [],
   "source": [
    "def take_list_and_concat(n):\n",
    "    my_list = []\n",
    "    for i in range(n):\n",
    "        element = str(input(\"Enter list element #{}:   \".format(i)))\n",
    "        my_list.append(element)\n",
    "    print(my_list)\n",
    "    out_str =''\n",
    "    for x in my_list:\n",
    "        out_str = out_str + str(x)\n",
    "    return(out_str)"
   ]
  },
  {
   "cell_type": "code",
   "execution_count": null,
   "id": "88e8cfd6",
   "metadata": {},
   "outputs": [],
   "source": [
    "take_list_and_concat(5)"
   ]
  },
  {
   "cell_type": "markdown",
   "id": "c11a279e",
   "metadata": {},
   "source": [
    "##### Write a Python program to print all even numbers from a given numbers list in the same order and stop the printing if any numbers that come after 237 in the sequence."
   ]
  },
  {
   "cell_type": "code",
   "execution_count": null,
   "id": "06f993a5",
   "metadata": {},
   "outputs": [],
   "source": [
    "def even_out(my_list):\n",
    "    out_list = []\n",
    "    for element in my_list:\n",
    "        if (element % 2 ==0 and element <= 237):\n",
    "            print(element)\n",
    "            out_list.append(element)\n",
    "        else:\n",
    "            pass\n",
    "    return(out_list)"
   ]
  },
  {
   "cell_type": "code",
   "execution_count": null,
   "id": "4ac17f13",
   "metadata": {},
   "outputs": [],
   "source": [
    "numbers = [ 386, 462, 47, 418, 907, 344, 236, 375, 823, 566, 597, 978, 328, 615, 953, 345, \n",
    "    399, 162, 758, 219, 918, 237, 412, 566, 826, 248, 866, 950, 626, 949, 687, 217, \n",
    "    815, 67, 104, 58, 512, 24, 892, 894, 767, 553, 81, 379, 843, 831, 445, 742, 717, \n",
    "    958,743, 527]\n",
    "\n",
    "even_out(numbers)"
   ]
  },
  {
   "cell_type": "markdown",
   "id": "dc74e757",
   "metadata": {},
   "source": [
    "#####  Write a Python program to print out a set containing all the colors from color_list_1 which are not present in color_list_2.\n",
    "\n",
    "- Test Data :\n",
    "    - color_list_1 = set([\"White\", \"Black\", \"Red\"])\n",
    "    - color_list_2 = set([\"Red\", \"Green\"])\n",
    "- Expected Output :\n",
    "    - {'Black', 'White'}"
   ]
  },
  {
   "cell_type": "code",
   "execution_count": null,
   "id": "5dcadcc2",
   "metadata": {},
   "outputs": [],
   "source": [
    "def compare_list(list_1,list_2):\n",
    "    out_list = []\n",
    "    for x in list_1:\n",
    "        y = x\n",
    "        if (y in list_2):\n",
    "            pass\n",
    "        else:\n",
    "            out_list.append(y)\n",
    "    return(out_list)"
   ]
  },
  {
   "cell_type": "code",
   "execution_count": null,
   "id": "8c7dae8e",
   "metadata": {},
   "outputs": [],
   "source": [
    "color_list_1 = set([\"White\", \"Black\", \"Red\"])\n",
    "color_list_2 = set([\"Red\", \"Green\"])\n",
    "\n",
    "compare_list(color_list_1,color_list_2)"
   ]
  },
  {
   "cell_type": "markdown",
   "id": "48c4c937",
   "metadata": {},
   "source": [
    "## Write a Python program to add two objects if both objects are an integer type."
   ]
  },
  {
   "cell_type": "markdown",
   "id": "20b0e511",
   "metadata": {},
   "source": [
    "#### isinstance() takes two parameters:\n",
    "\n",
    "    - object - object to be checked\n",
    "    - classinfo - class, type, or tuple of classes and types"
   ]
  },
  {
   "cell_type": "code",
   "execution_count": null,
   "id": "6b14ea02",
   "metadata": {},
   "outputs": [],
   "source": [
    "def add_int(x,y):\n",
    "    if (isinstance(x,int) and isinstance(y,int)):\n",
    "        sum = x+y\n",
    "        print(\"The sum of integers {} and {} is: {} \".format(x,y,sum))\n",
    "    else:\n",
    "        print(\"Not integer type\")"
   ]
  },
  {
   "cell_type": "code",
   "execution_count": null,
   "id": "92ae822d",
   "metadata": {},
   "outputs": [],
   "source": [
    "add_int(2,3)"
   ]
  },
  {
   "cell_type": "markdown",
   "id": "a47d52ac",
   "metadata": {},
   "source": [
    "##### Write a Python program to check whether a file exists."
   ]
  },
  {
   "cell_type": "code",
   "execution_count": null,
   "id": "90fb1aa8",
   "metadata": {},
   "outputs": [],
   "source": [
    "import os.path\n",
    "print(os.path.exists('main.txt'))\n",
    "print(os.path.exists('main.py'))"
   ]
  },
  {
   "cell_type": "markdown",
   "id": "3f4306fc",
   "metadata": {},
   "source": [
    "##### Write a Python program to sum of the first n positive integers."
   ]
  },
  {
   "cell_type": "code",
   "execution_count": null,
   "id": "07d474fd",
   "metadata": {},
   "outputs": [],
   "source": [
    "def sum_n(n):\n",
    "    out = 0\n",
    "    if (n>0):\n",
    "        for i in range(n+1):\n",
    "            out = out + i\n",
    "    else:\n",
    "        print(\"Please enter a positive range\")\n",
    "    return(out)"
   ]
  },
  {
   "cell_type": "code",
   "execution_count": null,
   "id": "7b948ac1",
   "metadata": {},
   "outputs": [],
   "source": [
    "sum_n(5)"
   ]
  },
  {
   "cell_type": "markdown",
   "id": "f35c51d4",
   "metadata": {},
   "source": [
    "##### Write a Python program to get the size of an object in bytes."
   ]
  },
  {
   "cell_type": "code",
   "execution_count": null,
   "id": "49e873e4",
   "metadata": {},
   "outputs": [],
   "source": [
    "import sys\n",
    "str1 = \"one\"\n",
    "str2 = \"four\"\n",
    "str3 = \"three\"\n",
    "\n",
    "print(\"Size of \",str1,\"=\",str(sys.getsizeof(str1))+ \" bytes\")\n",
    "print(\"Size of \",str2,\"=\",str(sys.getsizeof(str2))+ \" bytes\")\n",
    "print(\"Size of \",str3,\"=\",str(sys.getsizeof(str3))+ \" bytes\")"
   ]
  },
  {
   "cell_type": "markdown",
   "id": "0a470af0",
   "metadata": {},
   "source": [
    "##### Write a Python program to test whether all numbers of a list is greater than a certain number."
   ]
  },
  {
   "cell_type": "code",
   "execution_count": null,
   "id": "c05abffe",
   "metadata": {},
   "outputs": [],
   "source": [
    "def compare_list(input_list,n):\n",
    "    flag = 0\n",
    "    for element in input_list:\n",
    "        if element > n:\n",
    "            flag = flag + 0\n",
    "        else:\n",
    "            flag = flag + 1\n",
    "    if flag == 0:\n",
    "        print(\"All elements are greater than {}\".format(n))\n",
    "    else:\n",
    "        print(\"One or more elements are lesser than {}\".format(n))"
   ]
  },
  {
   "cell_type": "code",
   "execution_count": null,
   "id": "745c3973",
   "metadata": {},
   "outputs": [],
   "source": [
    "my_list = [1,2,3,4]\n",
    "\n",
    "compare_list(my_list,5)"
   ]
  },
  {
   "cell_type": "code",
   "execution_count": null,
   "id": "b77676d3",
   "metadata": {},
   "outputs": [],
   "source": [
    "compare_list(my_list,0)"
   ]
  },
  {
   "cell_type": "markdown",
   "id": "8aeaa88b",
   "metadata": {},
   "source": [
    "## Write a Python program to count the number occurrence of a specific character in a string."
   ]
  },
  {
   "cell_type": "code",
   "execution_count": null,
   "id": "ea5dc0c3",
   "metadata": {},
   "outputs": [],
   "source": [
    "def char_occurance(input_string):\n",
    "    from collections import Counter\n",
    "    input_list = []\n",
    "    for i in range(0,len(input_string)):\n",
    "        element = input_string[i]\n",
    "        input_list.append(element)\n",
    "    out = Counter(input_list)\n",
    "    return(out)"
   ]
  },
  {
   "cell_type": "code",
   "execution_count": null,
   "id": "f939368e",
   "metadata": {},
   "outputs": [],
   "source": [
    "char_occurance('abcdabcdabab')"
   ]
  },
  {
   "cell_type": "markdown",
   "id": "f1a5da75",
   "metadata": {},
   "source": [
    "## Write a Python program to compute the product of a list of integers (without using for loop)."
   ]
  },
  {
   "cell_type": "code",
   "execution_count": null,
   "id": "7aa9346f",
   "metadata": {},
   "outputs": [],
   "source": [
    "from functools import reduce\n",
    "nums = [10, 20, 30,]\n",
    "print(\"Original list numbers:\")\n",
    "print(nums)\n",
    "nums_product = reduce( (lambda x, y: x * y), nums)\n",
    "print(\"\\nProduct of the said numbers (without using for loop):\",nums_product)"
   ]
  },
  {
   "cell_type": "markdown",
   "id": "270f8a1a",
   "metadata": {},
   "source": [
    "##### Write a Python program to check whether lowercase letters exist in a string."
   ]
  },
  {
   "cell_type": "code",
   "execution_count": null,
   "id": "729a07ff",
   "metadata": {},
   "outputs": [],
   "source": [
    "def check_lower(input_string):\n",
    "    input_list = []\n",
    "    for i in range(0,len(input_string)):\n",
    "        element = input_string[i]\n",
    "        input_list.append(element)\n",
    "    flag = 0\n",
    "    for x in input_list:\n",
    "        if (x.islower()):\n",
    "            flag = flag + 1\n",
    "        else:\n",
    "            flag = flag  + 0\n",
    "    if flag != 0:\n",
    "        print(\"Lower Case Alphabets Exist\")\n",
    "    else:\n",
    "        print(\"No Lower Case Alphabets\")"
   ]
  },
  {
   "cell_type": "code",
   "execution_count": null,
   "id": "a84a8895",
   "metadata": {},
   "outputs": [],
   "source": [
    "check_lower('aB')"
   ]
  },
  {
   "cell_type": "code",
   "execution_count": null,
   "id": "0083ae94",
   "metadata": {},
   "outputs": [],
   "source": [
    "check_lower('ab')"
   ]
  },
  {
   "cell_type": "code",
   "execution_count": null,
   "id": "b4f79e22",
   "metadata": {},
   "outputs": [],
   "source": [
    "check_lower('AB')"
   ]
  },
  {
   "cell_type": "markdown",
   "id": "66eb05fe",
   "metadata": {},
   "source": [
    "##### Write a Python program to add leading zeroes to a string."
   ]
  },
  {
   "cell_type": "code",
   "execution_count": null,
   "id": "e55dee1b",
   "metadata": {},
   "outputs": [],
   "source": [
    "def add_zeroes(input_string,n):\n",
    "    leading_zeroes = '0'*n\n",
    "    input_list = []\n",
    "    input_list.append(leading_zeroes)\n",
    "    for i in range(0,len(input_string)):\n",
    "        element = input_string[i]\n",
    "        input_list.append(element)\n",
    "    out = ''\n",
    "    for x in input_list:\n",
    "        out = out+str(x)\n",
    "    return(out)"
   ]
  },
  {
   "cell_type": "code",
   "execution_count": null,
   "id": "c09d1125",
   "metadata": {},
   "outputs": [],
   "source": [
    "add_zeroes('abcd',5)"
   ]
  },
  {
   "cell_type": "markdown",
   "id": "ea94230e",
   "metadata": {},
   "source": [
    "## Write a Python program to check if every consecutive sequence of zeroes is followed by a consecutive sequence of ones of same length in a given string. Return True/False.\n",
    "\n",
    "    - Original sequence: 01010101\n",
    "        - Check if every consecutive sequence of zeroes is followed by a consecutive sequence of ones in the said string:\n",
    "            -True\n",
    "    -Original sequence: 00\n",
    "        - Check if every consecutive sequence of zeroes is followed by a consecutive sequence of ones in the said string:\n",
    "            -False"
   ]
  },
  {
   "cell_type": "code",
   "execution_count": null,
   "id": "ad54456a",
   "metadata": {},
   "outputs": [],
   "source": [
    "def check_01(input_string):\n",
    "    new_str = input_string\n",
    "    new_str = new_str.replace('01','')\n",
    "    return (len(new_str) == 0)"
   ]
  },
  {
   "cell_type": "code",
   "execution_count": null,
   "id": "e8b6b083",
   "metadata": {},
   "outputs": [],
   "source": [
    "check_01('00')"
   ]
  },
  {
   "cell_type": "code",
   "execution_count": null,
   "id": "bda9d472",
   "metadata": {},
   "outputs": [],
   "source": [
    "check_01('01010101')"
   ]
  },
  {
   "cell_type": "markdown",
   "id": "96fb40a8",
   "metadata": {},
   "source": [
    "### Write a Python function that takes a sequence of numbers and determines whether all the numbers are different from each other.\n",
    "\n",
    "    - Lists : Duplicates allowed\n",
    "    - Sets : Duplicates are not allowed"
   ]
  },
  {
   "cell_type": "code",
   "execution_count": null,
   "id": "a3b69134",
   "metadata": {},
   "outputs": [],
   "source": [
    "def num_check(n):\n",
    "    my_list = []\n",
    "    for i in range(0,n):\n",
    "        element = float(input(\"Enter element #{} : \".format(i)))\n",
    "        my_list.append(element)\n",
    "    print(\"The entered sequence is : {}\".format(my_list))\n",
    "    my_set = set(my_list)\n",
    "    if len(my_list) == len(my_set):\n",
    "        print(\"All numbers are different from each other\")\n",
    "    else:\n",
    "        print(\"Duplicates are present\")"
   ]
  },
  {
   "cell_type": "code",
   "execution_count": null,
   "id": "f33fc62a",
   "metadata": {},
   "outputs": [],
   "source": [
    "num_check(5)"
   ]
  },
  {
   "cell_type": "code",
   "execution_count": null,
   "id": "0f98ab8a",
   "metadata": {},
   "outputs": [],
   "source": [
    "num_check(5)"
   ]
  },
  {
   "cell_type": "markdown",
   "id": "a8bc1db8",
   "metadata": {},
   "source": [
    "##### Write a Python program to create all possible strings by using 'a', 'e', 'i', 'o', 'u'. Use the characters exactly once."
   ]
  },
  {
   "cell_type": "code",
   "execution_count": null,
   "id": "d4d2755f",
   "metadata": {},
   "outputs": [],
   "source": [
    "from itertools import permutations\n",
    "\n",
    "chars = ['a','e','i','o','u']\n",
    "combinations = permutations(chars)\n",
    "\n",
    "for string in combinations:\n",
    "    print(''.join(string))"
   ]
  },
  {
   "cell_type": "markdown",
   "id": "b5868871",
   "metadata": {},
   "source": [
    "##### Write a Python program to remove and print every third number from a list of numbers until the list becomes empty."
   ]
  },
  {
   "cell_type": "code",
   "execution_count": null,
   "id": "d5d41e95",
   "metadata": {},
   "outputs": [],
   "source": [
    "def remove_third(my_list):\n",
    "    if len(my_list) >=3:\n",
    "        while len(my_list) >=3:\n",
    "            x = my_list.pop(2)\n",
    "            print(\"Third Element is: {}\".format(x))\n",
    "            print(\"Updated List is: {}\".format(my_list))\n",
    "    if len(my_list) < 3:\n",
    "        y = my_list.pop(1)\n",
    "        print(\"Second Last Element is: {}\".format(y))\n",
    "        print(\"Updated List is: {}\".format(my_list))\n",
    "        z = my_list.pop(0)\n",
    "        print(\"Last Element is: {}\".format(z))\n",
    "        print(\"Updated List is: {}\".format(my_list))"
   ]
  },
  {
   "cell_type": "code",
   "execution_count": null,
   "id": "20a2e21a",
   "metadata": {},
   "outputs": [],
   "source": [
    "input_list = [1,2,3,4,5,6,7,8,9,10]\n",
    "remove_third(input_list)"
   ]
  },
  {
   "cell_type": "markdown",
   "id": "4c9bf7c6",
   "metadata": {},
   "source": [
    "##### Write a Python program to print a long text, convert the string to a list and print all the words and their frequencies."
   ]
  },
  {
   "cell_type": "code",
   "execution_count": null,
   "id": "b33dd697",
   "metadata": {},
   "outputs": [],
   "source": [
    "def word_freq():\n",
    "    input_str = input(\"Enter a sentence: \")\n",
    "    input_list = input_str.split(' ')\n",
    "    \n",
    "    from collections import Counter\n",
    "    \n",
    "    out = Counter(input_list)\n",
    "    print(out)"
   ]
  },
  {
   "cell_type": "code",
   "execution_count": null,
   "id": "9b3b75e0",
   "metadata": {},
   "outputs": [],
   "source": [
    "word_freq()"
   ]
  },
  {
   "cell_type": "markdown",
   "id": "1eaa52de",
   "metadata": {},
   "source": [
    "### Write a Python program to print a long text, convert the string to a list and print all the words and their frequencies."
   ]
  },
  {
   "cell_type": "code",
   "execution_count": null,
   "id": "b10a8001",
   "metadata": {},
   "outputs": [],
   "source": [
    "from collections import Counter\n",
    "\n",
    "file_name = input(\"Enter File name: \")\n",
    "with open(file_name,'r') as file:\n",
    "    count = Counter(file_name.read())\n",
    "print(count)    "
   ]
  },
  {
   "cell_type": "markdown",
   "id": "b20f7dd6",
   "metadata": {},
   "source": [
    "##### Write a Python program to create all possible permutations from a given collection of distinct numbers."
   ]
  },
  {
   "cell_type": "code",
   "execution_count": null,
   "id": "d8869374",
   "metadata": {},
   "outputs": [],
   "source": [
    "from itertools import permutations\n",
    "\n",
    "def perm(num_list):\n",
    "    combinations = permutations(num_list)\n",
    "    for nums in combinations:\n",
    "        print(''.join(str(nums)))"
   ]
  },
  {
   "cell_type": "code",
   "execution_count": null,
   "id": "7f6c846a",
   "metadata": {},
   "outputs": [],
   "source": [
    "l1 = [1,2,3]\n",
    "perm(l1)"
   ]
  },
  {
   "cell_type": "markdown",
   "id": "ecd46c72",
   "metadata": {},
   "source": [
    "## Write a Python program to compute the summation of the absolute difference of all distinct pairs in a given array (non-decreasing order)."
   ]
  },
  {
   "cell_type": "code",
   "execution_count": null,
   "id": "01d002be",
   "metadata": {},
   "outputs": [],
   "source": [
    "def sum_diff(input_list):\n",
    "    \n",
    "    my_set = set(input_list)\n",
    "    new_list = list(my_set)\n",
    "    \n",
    "    from itertools import combinations\n",
    "    combination = list(combinations(new_list, r=2))\n",
    "    \n",
    "    summ = 0\n",
    "    for combs in combination:\n",
    "        x = combs[0]\n",
    "        y = combs[1]\n",
    "        z = abs(x-y)\n",
    "        summ = summ + z\n",
    "    print(summ)"
   ]
  },
  {
   "cell_type": "code",
   "execution_count": null,
   "id": "198f3844",
   "metadata": {},
   "outputs": [],
   "source": [
    "sum_diff([1,2,3])"
   ]
  },
  {
   "cell_type": "markdown",
   "id": "298ea42e",
   "metadata": {},
   "source": [
    "##### Write a Python program that accepts six numbers as input and sorts them in descending order."
   ]
  },
  {
   "cell_type": "code",
   "execution_count": null,
   "id": "24fb44a8",
   "metadata": {},
   "outputs": [],
   "source": [
    "def sorter():\n",
    "    my_list = []\n",
    "    for i in range(0,6):\n",
    "        element = int(input(\"Enter element # {} :\".format(i)))\n",
    "        my_list.append(element)\n",
    "    my_list.sort(reverse=True)\n",
    "    print(my_list)"
   ]
  },
  {
   "cell_type": "code",
   "execution_count": null,
   "id": "77e0da43",
   "metadata": {},
   "outputs": [],
   "source": [
    "sorter()"
   ]
  },
  {
   "cell_type": "markdown",
   "id": "f97f8083",
   "metadata": {},
   "source": [
    "### Write a Python function that takes a sequence of numbers and determines whether all the numbers are different from each other.\n",
    "\n",
    "    - Lists : Duplicates allowed\n",
    "    - Sets : Duplicates are not allowed"
   ]
  },
  {
   "cell_type": "code",
   "execution_count": null,
   "id": "a3b69134",
   "metadata": {},
   "outputs": [],
   "source": [
    "def num_check(n):\n",
    "    my_list = []\n",
    "    for i in range(0,n):\n",
    "        element = float(input(\"Enter element #{} : \".format(i)))\n",
    "        my_list.append(element)\n",
    "    print(\"The entered sequence is : {}\".format(my_list))\n",
    "    my_set = set(my_list)\n",
    "    if len(my_list) == len(my_set):\n",
    "        print(\"All numbers are different from each other\")\n",
    "    else:\n",
    "        print(\"Duplicates are present\")"
   ]
  },
  {
   "cell_type": "code",
   "execution_count": null,
   "id": "f33fc62a",
   "metadata": {},
   "outputs": [],
   "source": [
    "num_check(5)"
   ]
  },
  {
   "cell_type": "code",
   "execution_count": null,
   "id": "0f98ab8a",
   "metadata": {},
   "outputs": [],
   "source": [
    "num_check(5)"
   ]
  },
  {
   "cell_type": "markdown",
   "id": "a8bc1db8",
   "metadata": {},
   "source": [
    "##### Write a Python program to create all possible strings by using 'a', 'e', 'i', 'o', 'u'. Use the characters exactly once."
   ]
  },
  {
   "cell_type": "code",
   "execution_count": null,
   "id": "d4d2755f",
   "metadata": {},
   "outputs": [],
   "source": [
    "from itertools import permutations\n",
    "\n",
    "chars = ['a','e','i','o','u']\n",
    "combinations = permutations(chars)\n",
    "\n",
    "for string in combinations:\n",
    "    print(''.join(string))"
   ]
  },
  {
   "cell_type": "markdown",
   "id": "b5868871",
   "metadata": {},
   "source": [
    "##### Write a Python program to remove and print every third number from a list of numbers until the list becomes empty."
   ]
  },
  {
   "cell_type": "code",
   "execution_count": null,
   "id": "d5d41e95",
   "metadata": {},
   "outputs": [],
   "source": [
    "def remove_third(my_list):\n",
    "    if len(my_list) >=3:\n",
    "        while len(my_list) >=3:\n",
    "            x = my_list.pop(2)\n",
    "            print(\"Third Element is: {}\".format(x))\n",
    "            print(\"Updated List is: {}\".format(my_list))\n",
    "    if len(my_list) < 3:\n",
    "        y = my_list.pop(1)\n",
    "        print(\"Second Last Element is: {}\".format(y))\n",
    "        print(\"Updated List is: {}\".format(my_list))\n",
    "        z = my_list.pop(0)\n",
    "        print(\"Last Element is: {}\".format(z))\n",
    "        print(\"Updated List is: {}\".format(my_list))"
   ]
  },
  {
   "cell_type": "code",
   "execution_count": null,
   "id": "20a2e21a",
   "metadata": {},
   "outputs": [],
   "source": [
    "input_list = [1,2,3,4,5,6,7,8,9,10]\n",
    "remove_third(input_list)"
   ]
  },
  {
   "cell_type": "markdown",
   "id": "4c9bf7c6",
   "metadata": {},
   "source": [
    "##### Write a Python program to print a long text, convert the string to a list and print all the words and their frequencies."
   ]
  },
  {
   "cell_type": "code",
   "execution_count": null,
   "id": "b33dd697",
   "metadata": {},
   "outputs": [],
   "source": [
    "def word_freq():\n",
    "    input_str = input(\"Enter a sentence: \")\n",
    "    input_list = input_str.split(' ')\n",
    "    \n",
    "    from collections import Counter\n",
    "    \n",
    "    out = Counter(input_list)\n",
    "    print(out)"
   ]
  },
  {
   "cell_type": "code",
   "execution_count": null,
   "id": "9b3b75e0",
   "metadata": {},
   "outputs": [],
   "source": [
    "word_freq()"
   ]
  },
  {
   "cell_type": "markdown",
   "id": "1eaa52de",
   "metadata": {},
   "source": [
    "### Write a Python program to print a long text, convert the string to a list and print all the words and their frequencies."
   ]
  },
  {
   "cell_type": "code",
   "execution_count": null,
   "id": "b10a8001",
   "metadata": {},
   "outputs": [],
   "source": [
    "from collections import Counter\n",
    "\n",
    "file_name = input(\"Enter File name: \")\n",
    "with open(file_name,'r') as file:\n",
    "    count = Counter(file_name.read())\n",
    "print(count)    "
   ]
  },
  {
   "cell_type": "markdown",
   "id": "b20f7dd6",
   "metadata": {},
   "source": [
    "##### Write a Python program to create all possible permutations from a given collection of distinct numbers."
   ]
  },
  {
   "cell_type": "code",
   "execution_count": null,
   "id": "d8869374",
   "metadata": {},
   "outputs": [],
   "source": [
    "from itertools import permutations\n",
    "\n",
    "def perm(num_list):\n",
    "    combinations = permutations(num_list)\n",
    "    for nums in combinations:\n",
    "        print(''.join(str(nums)))"
   ]
  },
  {
   "cell_type": "code",
   "execution_count": null,
   "id": "7f6c846a",
   "metadata": {},
   "outputs": [],
   "source": [
    "l1 = [1,2,3]\n",
    "perm(l1)"
   ]
  },
  {
   "cell_type": "markdown",
   "id": "ecd46c72",
   "metadata": {},
   "source": [
    "## Write a Python program to compute the summation of the absolute difference of all distinct pairs in a given array (non-decreasing order)."
   ]
  },
  {
   "cell_type": "code",
   "execution_count": null,
   "id": "01d002be",
   "metadata": {},
   "outputs": [],
   "source": [
    "def sum_diff(input_list):\n",
    "    \n",
    "    my_set = set(input_list)\n",
    "    new_list = list(my_set)\n",
    "    \n",
    "    from itertools import combinations\n",
    "    combination = list(combinations(new_list, r=2))\n",
    "    \n",
    "    summ = 0\n",
    "    for combs in combination:\n",
    "        x = combs[0]\n",
    "        y = combs[1]\n",
    "        z = abs(x-y)\n",
    "        summ = summ + z\n",
    "    print(summ)"
   ]
  },
  {
   "cell_type": "code",
   "execution_count": null,
   "id": "198f3844",
   "metadata": {},
   "outputs": [],
   "source": [
    "sum_diff([1,2,3])"
   ]
  },
  {
   "cell_type": "markdown",
   "id": "298ea42e",
   "metadata": {},
   "source": [
    "##### Write a Python program that accepts six numbers as input and sorts them in descending order."
   ]
  },
  {
   "cell_type": "code",
   "execution_count": null,
   "id": "24fb44a8",
   "metadata": {},
   "outputs": [],
   "source": [
    "def sorter():\n",
    "    my_list = []\n",
    "    for i in range(0,6):\n",
    "        element = int(input(\"Enter element # {} :\".format(i)))\n",
    "        my_list.append(element)\n",
    "    my_list.sort(reverse=True)\n",
    "    print(my_list)"
   ]
  },
  {
   "cell_type": "code",
   "execution_count": null,
   "id": "77e0da43",
   "metadata": {},
   "outputs": [],
   "source": [
    "sorter()"
   ]
  },
  {
   "cell_type": "markdown",
   "id": "201ac9bb",
   "metadata": {},
   "source": [
    "##### Write a Python program to calculate the length of a string."
   ]
  },
  {
   "cell_type": "code",
   "execution_count": null,
   "id": "c9efd514",
   "metadata": {},
   "outputs": [],
   "source": [
    "my_str = 'hi how are you?'\n",
    "len(my_str)"
   ]
  },
  {
   "cell_type": "markdown",
   "id": "545e6288",
   "metadata": {},
   "source": [
    "##### Write a Python program to count the number of characters (character frequency) in a string."
   ]
  },
  {
   "cell_type": "code",
   "execution_count": null,
   "id": "b9af0876",
   "metadata": {},
   "outputs": [],
   "source": [
    "def char_freq(my_str):\n",
    "    my_list = []\n",
    "    for i in range(0,len(my_str)):\n",
    "        element = my_str[i]\n",
    "        my_list.append(element)\n",
    "    \n",
    "    from collections import Counter\n",
    "    \n",
    "    out = Counter(my_list)\n",
    "    print(out)"
   ]
  },
  {
   "cell_type": "code",
   "execution_count": null,
   "id": "ba821757",
   "metadata": {},
   "outputs": [],
   "source": [
    "char_freq('hii')"
   ]
  },
  {
   "cell_type": "markdown",
   "id": "292ca251",
   "metadata": {},
   "source": [
    "#####  Write a Python program to get a string made of the first 2 and the last 2 chars from a given a string. If the string length is less than 2, return instead of the empty string."
   ]
  },
  {
   "cell_type": "code",
   "execution_count": null,
   "id": "371f8420",
   "metadata": {},
   "outputs": [],
   "source": [
    "def new_string(input_str):\n",
    "    my_list = []\n",
    "    for i in range(0,len(input_str)):\n",
    "        element = input_str[i]\n",
    "        my_list.append(element)\n",
    "    out_list = []\n",
    "    out_str = ''\n",
    "    if (len(input_str)>=2):\n",
    "        out_str = out_str + my_list[0] + my_list[1] + my_list[-2] + my_list[-1]\n",
    "    print(\"Output string is: {}\".format(out_str))"
   ]
  },
  {
   "cell_type": "code",
   "execution_count": null,
   "id": "f0e70406",
   "metadata": {},
   "outputs": [],
   "source": [
    "new_string('abcdef')"
   ]
  },
  {
   "cell_type": "code",
   "execution_count": null,
   "id": "ff746bad",
   "metadata": {},
   "outputs": [],
   "source": [
    "new_string('')"
   ]
  },
  {
   "cell_type": "markdown",
   "id": "822954e0",
   "metadata": {},
   "source": [
    "##### Write a Python program to get a string from a given string where all occurrences of its first char have been changed to '$', except the first char itself."
   ]
  },
  {
   "cell_type": "code",
   "execution_count": null,
   "id": "e67ed716",
   "metadata": {},
   "outputs": [],
   "source": [
    "def change_char(str1):\n",
    "  char_ = str1[0]\n",
    "  str1 = str1.replace(char_, '$')\n",
    "  str1 = char_ + str1[1:]\n",
    "\n",
    "  return str1\n",
    "\n",
    "print(change_char('restart'))"
   ]
  },
  {
   "cell_type": "markdown",
   "id": "9d9c01a8",
   "metadata": {},
   "source": [
    "#####  Write a Python program to get a single string from two given strings, separated by a space and swap the first two characters of each string."
   ]
  },
  {
   "cell_type": "code",
   "execution_count": null,
   "id": "24e7badb",
   "metadata": {},
   "outputs": [],
   "source": [
    "def concat_swap(str1,str2):\n",
    "    \n",
    "    list1 =[]\n",
    "    for i in range(0,len(str1)):\n",
    "        element1 = str1[i]\n",
    "        list1.append(element1)\n",
    "        \n",
    "    list2 =[]\n",
    "    for i in range(0,len(str2)):\n",
    "        element2 = str2[i]\n",
    "        list2.append(element2) \n",
    "        \n",
    "    holder = list1[0:2]\n",
    "    list1[0:2] = list2[0:2]\n",
    "    list2[0:2] = holder\n",
    "\n",
    "    for x1 in list1:\n",
    "        new_str1 = (''.join(list1))\n",
    "    for x2 in list2:\n",
    "        new_str2 = (''.join(list2))\n",
    "    \n",
    "    print(new_str1+' '+new_str2)"
   ]
  },
  {
   "cell_type": "code",
   "execution_count": null,
   "id": "01a68f64",
   "metadata": {},
   "outputs": [],
   "source": [
    "concat_swap('abc','xyz')"
   ]
  },
  {
   "cell_type": "markdown",
   "id": "4efd2701",
   "metadata": {},
   "source": [
    "##### Write a Python program to add 'ing' at the end of a given string (length should be at least 3). If the given string already ends with 'ing' then add 'ly' instead. If the string length of the given string is less than 3, leave it unchanged."
   ]
  },
  {
   "cell_type": "code",
   "execution_count": null,
   "id": "35551fb6",
   "metadata": {},
   "outputs": [],
   "source": [
    "def change_str(input_str):\n",
    "    \n",
    "    input_list = []\n",
    "    \n",
    "    for i in range(0,len(input_str)):\n",
    "        element = input_str[i]\n",
    "        input_list.append(element)\n",
    "        \n",
    "    if (len(input_str) < 3):\n",
    "        print(\"Unchanged String : {}\".format(input_str))\n",
    "    else:\n",
    "        check = ['i','n','g']\n",
    "        holder = input_list[-3:]\n",
    "        \n",
    "        if (holder == check):\n",
    "            print(\"Updated String is: \"+input_str+\"ly\")\n",
    "        else:\n",
    "            print(\"Updated String is: \"+input_str+\"ing\")"
   ]
  },
  {
   "cell_type": "code",
   "execution_count": null,
   "id": "9daad55a",
   "metadata": {},
   "outputs": [],
   "source": [
    "change_str('abc')"
   ]
  },
  {
   "cell_type": "code",
   "execution_count": null,
   "id": "ad55a44a",
   "metadata": {},
   "outputs": [],
   "source": [
    "change_str('abcing')"
   ]
  },
  {
   "cell_type": "code",
   "execution_count": null,
   "id": "dc2d9843",
   "metadata": {},
   "outputs": [],
   "source": [
    "change_str('ab')"
   ]
  },
  {
   "cell_type": "markdown",
   "id": "bf4f610f",
   "metadata": {},
   "source": [
    "## Write a Python program to find the first appearance of the substring 'not' and 'poor' from a given string, if 'not' follows the 'poor', replace the whole 'not'...'poor' substring with 'good'. Return the resulting string."
   ]
  },
  {
   "cell_type": "code",
   "execution_count": null,
   "id": "f2287b78",
   "metadata": {},
   "outputs": [],
   "source": [
    "def not_poor(str1):\n",
    "  snot = str1.find('not')\n",
    "  spoor = str1.find('poor')\n",
    "  \n",
    "\n",
    "  if spoor > snot and snot>0 and spoor>0:\n",
    "    str1 = str1.replace(str1[snot:(spoor+4)], 'good')\n",
    "    return str1\n",
    "  else:\n",
    "    return str1\n",
    "print(not_poor('The lyrics is not that poor!'))\n",
    "print(not_poor('The lyrics is poor!'))"
   ]
  },
  {
   "cell_type": "markdown",
   "id": "3a560e98",
   "metadata": {},
   "source": [
    "#####  Write a Python program to change a given string to a new string where the first and last chars have been exchanged"
   ]
  },
  {
   "cell_type": "code",
   "execution_count": null,
   "id": "368579f0",
   "metadata": {},
   "outputs": [],
   "source": [
    "def invert_str(input_str):\n",
    "    input_list = []\n",
    "    for i in range(len(input_str)):\n",
    "        element = input_str[i]\n",
    "        input_list.append(element)\n",
    "    holder = input_list[-1]\n",
    "    input_list[-1] = input_list[0]\n",
    "    input_list[0] = holder\n",
    "    \n",
    "    out = ''\n",
    "    for x in input_list:\n",
    "        out = out + x\n",
    "    print(out)"
   ]
  },
  {
   "cell_type": "code",
   "execution_count": null,
   "id": "4b663a0c",
   "metadata": {},
   "outputs": [],
   "source": [
    "invert_str('abcd')"
   ]
  },
  {
   "cell_type": "markdown",
   "id": "8678713c",
   "metadata": {},
   "source": [
    "##### Write a Python script that takes input from the user and displays that input back in upper and lower cases."
   ]
  },
  {
   "cell_type": "code",
   "execution_count": null,
   "id": "726850f6",
   "metadata": {},
   "outputs": [],
   "source": [
    "def upper_lower():\n",
    "    input_str = input(\"Enter a string: \")\n",
    "    print(\"Upper Case: {}\".format(input_str.upper()))\n",
    "    print(\"Lower Case: {}\".format(input_str.lower()))"
   ]
  },
  {
   "cell_type": "code",
   "execution_count": null,
   "id": "9acad9c6",
   "metadata": {},
   "outputs": [],
   "source": [
    "'abcd'.upper()"
   ]
  },
  {
   "cell_type": "code",
   "execution_count": null,
   "id": "f4bd4b40",
   "metadata": {},
   "outputs": [],
   "source": [
    "upper_lower()"
   ]
  },
  {
   "cell_type": "markdown",
   "id": "c9058aa3",
   "metadata": {},
   "source": [
    "#####  Write a Python program that accepts a comma separated sequence of words as input and prints the unique words in sorted form (alphanumerically)."
   ]
  },
  {
   "cell_type": "code",
   "execution_count": null,
   "id": "3adf3fd2",
   "metadata": {},
   "outputs": [],
   "source": [
    "def str_sort():\n",
    "    input_str = input(\"Enter a comma separated sequence of words: \")\n",
    "    \n",
    "    # Removing leading and lagging spaces\n",
    "    my_str = input_str.strip(' ')\n",
    "    \n",
    "    # Removing spaces between commas\n",
    "    my_str = my_str.replace(' ','')\n",
    "    \n",
    "    # Extracting individual words\n",
    "    input_list = my_str.split(',')\n",
    "    \n",
    "    my_list = list(set(input_list))\n",
    "    my_list.sort()\n",
    "    \n",
    "    print(my_list)"
   ]
  },
  {
   "cell_type": "code",
   "execution_count": null,
   "id": "134e4802",
   "metadata": {},
   "outputs": [],
   "source": [
    "str_sort()"
   ]
  },
  {
   "cell_type": "code",
   "execution_count": null,
   "id": "2308a495",
   "metadata": {},
   "outputs": [],
   "source": []
  }
 ],
 "metadata": {
  "kernelspec": {
   "display_name": "Python 3 (ipykernel)",
   "language": "python",
   "name": "python3"
  },
  "language_info": {
   "codemirror_mode": {
    "name": "ipython",
    "version": 3
   },
   "file_extension": ".py",
   "mimetype": "text/x-python",
   "name": "python",
   "nbconvert_exporter": "python",
   "pygments_lexer": "ipython3",
   "version": "3.8.12"
  }
 },
 "nbformat": 4,
 "nbformat_minor": 5
}
