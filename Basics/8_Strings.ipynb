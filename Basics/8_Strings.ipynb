{
 "cells": [
  {
   "cell_type": "code",
   "execution_count": 1,
   "id": "16ac19f6",
   "metadata": {},
   "outputs": [
    {
     "name": "stdout",
     "output_type": "stream",
     "text": [
      "First name is: Raunaq\n",
      "Last name is: Bhalla\n"
     ]
    }
   ],
   "source": [
    "first_name = \"Raunaq\"\n",
    "last_name = \"Bhalla\"\n",
    "\n",
    "print(\"First name is: {}\".format(first_name))\n",
    "print(\"Last name is: {}\".format(last_name))"
   ]
  },
  {
   "cell_type": "code",
   "execution_count": 2,
   "id": "2fb65029",
   "metadata": {},
   "outputs": [
    {
     "name": "stdout",
     "output_type": "stream",
     "text": [
      "Full name is: Raunaq Bhalla\n"
     ]
    }
   ],
   "source": [
    "print(\"Full name is: {}\".format(first_name +\" \"+ last_name))"
   ]
  },
  {
   "cell_type": "code",
   "execution_count": null,
   "id": "8849f97b",
   "metadata": {},
   "outputs": [],
   "source": []
  },
  {
   "cell_type": "markdown",
   "id": "94eb9fa5",
   "metadata": {},
   "source": [
    "# Slicing Strings"
   ]
  },
  {
   "cell_type": "code",
   "execution_count": 3,
   "id": "4193f200",
   "metadata": {},
   "outputs": [
    {
     "data": {
      "text/plain": [
       "'my name is'"
      ]
     },
     "execution_count": 3,
     "metadata": {},
     "output_type": "execute_result"
    }
   ],
   "source": [
    "sample = 'my name is'\n",
    "sample"
   ]
  },
  {
   "cell_type": "code",
   "execution_count": 4,
   "id": "4f9d9aa5",
   "metadata": {},
   "outputs": [
    {
     "data": {
      "text/plain": [
       "'si eman ym'"
      ]
     },
     "execution_count": 4,
     "metadata": {},
     "output_type": "execute_result"
    }
   ],
   "source": [
    "# Reversing the string\n",
    "sample[::-1]"
   ]
  },
  {
   "cell_type": "code",
   "execution_count": 5,
   "id": "d2884919",
   "metadata": {},
   "outputs": [
    {
     "name": "stdout",
     "output_type": "stream",
     "text": [
      "my n\n",
      "my n\n"
     ]
    }
   ],
   "source": [
    "print(sample[0:4])\n",
    "print(sample[:4])"
   ]
  },
  {
   "cell_type": "code",
   "execution_count": null,
   "id": "649c2c58",
   "metadata": {},
   "outputs": [],
   "source": []
  },
  {
   "cell_type": "markdown",
   "id": "b4f900db",
   "metadata": {},
   "source": [
    "## Split()\n",
    "\n",
    "string.split(separator, maxsplit)\n",
    "<br> separator = whitespace by default\n",
    "<br> maxsplit = specifies number of splits = default value is -1 i.e. all occurences"
   ]
  },
  {
   "cell_type": "code",
   "execution_count": 6,
   "id": "e3c1066d",
   "metadata": {},
   "outputs": [
    {
     "data": {
      "text/plain": [
       "'first second third'"
      ]
     },
     "execution_count": 6,
     "metadata": {},
     "output_type": "execute_result"
    }
   ],
   "source": [
    "my_string = \"first second third\"\n",
    "my_string"
   ]
  },
  {
   "cell_type": "code",
   "execution_count": 7,
   "id": "4eb6376c",
   "metadata": {},
   "outputs": [
    {
     "data": {
      "text/plain": [
       "['first', 'second', 'third']"
      ]
     },
     "execution_count": 7,
     "metadata": {},
     "output_type": "execute_result"
    }
   ],
   "source": [
    "my_list = my_string.split()\n",
    "my_list"
   ]
  },
  {
   "cell_type": "code",
   "execution_count": 8,
   "id": "c6223be3",
   "metadata": {},
   "outputs": [
    {
     "data": {
      "text/plain": [
       "'a.b.c.d'"
      ]
     },
     "execution_count": 8,
     "metadata": {},
     "output_type": "execute_result"
    }
   ],
   "source": [
    "my_string = \"a.b.c.d\"\n",
    "my_string"
   ]
  },
  {
   "cell_type": "code",
   "execution_count": 9,
   "id": "e161c058",
   "metadata": {},
   "outputs": [
    {
     "data": {
      "text/plain": [
       "['a', 'b', 'c', 'd']"
      ]
     },
     "execution_count": 9,
     "metadata": {},
     "output_type": "execute_result"
    }
   ],
   "source": [
    "my_list = my_string.split(\".\")\n",
    "my_list"
   ]
  },
  {
   "cell_type": "code",
   "execution_count": 10,
   "id": "4a6d9e35",
   "metadata": {},
   "outputs": [
    {
     "data": {
      "text/plain": [
       "['a', 'b.c.d']"
      ]
     },
     "execution_count": 10,
     "metadata": {},
     "output_type": "execute_result"
    }
   ],
   "source": [
    "my_list = my_string.split(\".\",1)\n",
    "my_list"
   ]
  },
  {
   "cell_type": "code",
   "execution_count": 11,
   "id": "182b8b2b",
   "metadata": {},
   "outputs": [
    {
     "data": {
      "text/plain": [
       "['a', 'b', 'c.d']"
      ]
     },
     "execution_count": 11,
     "metadata": {},
     "output_type": "execute_result"
    }
   ],
   "source": [
    "my_list = my_string.split(\".\",2)\n",
    "my_list"
   ]
  },
  {
   "cell_type": "code",
   "execution_count": 12,
   "id": "222876ec",
   "metadata": {},
   "outputs": [
    {
     "data": {
      "text/plain": [
       "['a', 'b', 'c', 'd']"
      ]
     },
     "execution_count": 12,
     "metadata": {},
     "output_type": "execute_result"
    }
   ],
   "source": [
    "my_list = my_string.split(\".\",3)\n",
    "my_list"
   ]
  },
  {
   "cell_type": "code",
   "execution_count": null,
   "id": "83f8b7b7",
   "metadata": {},
   "outputs": [],
   "source": []
  },
  {
   "cell_type": "markdown",
   "id": "c082b656",
   "metadata": {},
   "source": [
    "# Type Conversion"
   ]
  },
  {
   "cell_type": "code",
   "execution_count": 13,
   "id": "846e8b3f",
   "metadata": {},
   "outputs": [
    {
     "ename": "TypeError",
     "evalue": "can only concatenate str (not \"int\") to str",
     "output_type": "error",
     "traceback": [
      "\u001b[1;31m---------------------------------------------------------------------------\u001b[0m",
      "\u001b[1;31mTypeError\u001b[0m                                 Traceback (most recent call last)",
      "\u001b[1;32m~\\AppData\\Local\\Temp/ipykernel_22776/1785554139.py\u001b[0m in \u001b[0;36m<module>\u001b[1;34m\u001b[0m\n\u001b[1;32m----> 1\u001b[1;33m \u001b[1;34m\"Raunaq\"\u001b[0m \u001b[1;33m+\u001b[0m \u001b[1;36m2\u001b[0m\u001b[1;33m\u001b[0m\u001b[1;33m\u001b[0m\u001b[0m\n\u001b[0m",
      "\u001b[1;31mTypeError\u001b[0m: can only concatenate str (not \"int\") to str"
     ]
    }
   ],
   "source": [
    "\"Raunaq\" + 2"
   ]
  },
  {
   "cell_type": "code",
   "execution_count": 14,
   "id": "5ee04b2d",
   "metadata": {},
   "outputs": [
    {
     "data": {
      "text/plain": [
       "'Raunaq2'"
      ]
     },
     "execution_count": 14,
     "metadata": {},
     "output_type": "execute_result"
    }
   ],
   "source": [
    "\"Raunaq\" + str(2)"
   ]
  },
  {
   "cell_type": "code",
   "execution_count": null,
   "id": "ec8b2104",
   "metadata": {},
   "outputs": [],
   "source": []
  }
 ],
 "metadata": {
  "kernelspec": {
   "display_name": "Python 3 (ipykernel)",
   "language": "python",
   "name": "python3"
  },
  "language_info": {
   "codemirror_mode": {
    "name": "ipython",
    "version": 3
   },
   "file_extension": ".py",
   "mimetype": "text/x-python",
   "name": "python",
   "nbconvert_exporter": "python",
   "pygments_lexer": "ipython3",
   "version": "3.8.12"
  }
 },
 "nbformat": 4,
 "nbformat_minor": 5
}
