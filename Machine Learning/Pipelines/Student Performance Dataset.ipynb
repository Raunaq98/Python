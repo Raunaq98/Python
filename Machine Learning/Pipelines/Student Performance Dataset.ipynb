{
 "cells": [
  {
   "cell_type": "markdown",
   "id": "e6e74a6c",
   "metadata": {},
   "source": [
    "# Student Performance Dataset"
   ]
  },
  {
   "cell_type": "code",
   "execution_count": null,
   "id": "2dcf0500",
   "metadata": {},
   "outputs": [],
   "source": []
  },
  {
   "cell_type": "code",
   "execution_count": null,
   "id": "df3f26c6",
   "metadata": {},
   "outputs": [],
   "source": [
    "import pandas as pd\n",
    "import numpy as np\n",
    "\n",
    "import matplotlib.pyplot as plt\n",
    "from ydata_profiling import ProfileReport\n",
    "\n",
    "from sklearn.metrics import *\n",
    "from sklearn.model_selection import train_test_split\n",
    "\n",
    "from sklearn.pipeline import Pipeline\n",
    "from sklearn.compose import ColumnTransformer\n",
    "from sklearn.preprocessing import OneHotEncoder, StandardScaler, MinMaxScaler\n",
    "\n",
    "from sklearn.svm import SVC\n",
    "from sklearn.model_selection import GridSearchCV, RandomizedSearchCV\n",
    "\n",
    "from sklearn.linear_model import LinearRegression, Ridge, Lasso\n",
    "from sklearn.ensemble import RandomForestRegressor\n",
    "from sklearn.neighbors import KNeighborsRegressor"
   ]
  },
  {
   "cell_type": "code",
   "execution_count": null,
   "id": "d7df0488",
   "metadata": {},
   "outputs": [],
   "source": []
  },
  {
   "cell_type": "markdown",
   "id": "f6cbd8fb",
   "metadata": {},
   "source": [
    "### Data"
   ]
  },
  {
   "cell_type": "code",
   "execution_count": null,
   "id": "23b6bad4",
   "metadata": {},
   "outputs": [],
   "source": [
    "data = pd.read_csv(\"StudentsPerformance.csv\")\n",
    "data.columns = data.columns.str.replace(' ', '_')\n",
    "data.head()"
   ]
  },
  {
   "cell_type": "code",
   "execution_count": null,
   "id": "ca4cc380",
   "metadata": {},
   "outputs": [],
   "source": [
    "data.info()"
   ]
  },
  {
   "cell_type": "code",
   "execution_count": null,
   "id": "55b2f998",
   "metadata": {},
   "outputs": [],
   "source": [
    "# Numeric Columns\n",
    "\n",
    "numeric_cols = data.select_dtypes([\"int64\",\"float64\"]).columns.tolist()\n",
    "numeric_cols"
   ]
  },
  {
   "cell_type": "code",
   "execution_count": null,
   "id": "ef459cf6",
   "metadata": {},
   "outputs": [],
   "source": [
    "# Categorical Columns\n",
    "\n",
    "cat_cols = data.select_dtypes(\"object\").columns.tolist()\n",
    "cat_cols"
   ]
  },
  {
   "cell_type": "code",
   "execution_count": null,
   "id": "35c01c6c",
   "metadata": {},
   "outputs": [],
   "source": [
    "# Categorical Values\n",
    "\n",
    "cat_vals = [data[c].unique().tolist() for c in cat_cols]\n",
    "cat_vals"
   ]
  },
  {
   "cell_type": "code",
   "execution_count": null,
   "id": "7960fdf2",
   "metadata": {},
   "outputs": [],
   "source": []
  },
  {
   "cell_type": "markdown",
   "id": "919307ab",
   "metadata": {},
   "source": [
    "### Train - Test Split"
   ]
  },
  {
   "cell_type": "code",
   "execution_count": null,
   "id": "ac02f42b",
   "metadata": {},
   "outputs": [],
   "source": [
    "X = data.drop(columns=(\"math_score\"))\n",
    "y = data[\"math_score\"]\n",
    "\n",
    "X_train, X_test, y_train, y_test = train_test_split(X, y, test_size=0.33, random_state=0)"
   ]
  },
  {
   "cell_type": "code",
   "execution_count": null,
   "id": "f92b26f3",
   "metadata": {},
   "outputs": [],
   "source": []
  },
  {
   "cell_type": "markdown",
   "id": "7cfe43a1",
   "metadata": {},
   "source": [
    "### EDA"
   ]
  },
  {
   "cell_type": "code",
   "execution_count": null,
   "id": "0dccf02b",
   "metadata": {
    "scrolled": true
   },
   "outputs": [],
   "source": [
    "training_data = pd.concat([X_train,y_train], axis=1)\n",
    "\n",
    "profile = ProfileReport(training_data, explorative=True)\n",
    "profile"
   ]
  },
  {
   "cell_type": "code",
   "execution_count": null,
   "id": "0652e857",
   "metadata": {},
   "outputs": [],
   "source": []
  },
  {
   "cell_type": "markdown",
   "id": "ad486d22",
   "metadata": {},
   "source": [
    "### Pre-Processing"
   ]
  },
  {
   "cell_type": "code",
   "execution_count": null,
   "id": "9937af89",
   "metadata": {},
   "outputs": [],
   "source": [
    "# Handling Numeric Data\n",
    "\n",
    "numerical_pipe = Pipeline([('scaler', StandardScaler())])"
   ]
  },
  {
   "cell_type": "code",
   "execution_count": null,
   "id": "a0a0f4ef",
   "metadata": {},
   "outputs": [],
   "source": [
    "# Handling Categorical Data\n",
    "\n",
    "ohe = OneHotEncoder(categories=cat_vals)\n",
    "categorical_pipe = Pipeline([('one_hot', ohe)])"
   ]
  },
  {
   "cell_type": "code",
   "execution_count": null,
   "id": "04a2a7e0",
   "metadata": {},
   "outputs": [],
   "source": [
    "# Defining the Pre-Processing Transformer\n",
    "\n",
    "preprocessor = ColumnTransformer(transformers= [('numerical', numerical_pipe, numeric_cols),\n",
    "    ('categorical', categorical_pipe, cat_cols)],\n",
    "    remainder = 'passthrough')"
   ]
  },
  {
   "cell_type": "code",
   "execution_count": null,
   "id": "18944eb6",
   "metadata": {},
   "outputs": [],
   "source": []
  },
  {
   "cell_type": "markdown",
   "id": "86bfa5d2",
   "metadata": {},
   "source": [
    "### Model Building"
   ]
  },
  {
   "cell_type": "code",
   "execution_count": null,
   "id": "c978c0b2",
   "metadata": {},
   "outputs": [],
   "source": []
  },
  {
   "cell_type": "code",
   "execution_count": null,
   "id": "3611889e",
   "metadata": {},
   "outputs": [],
   "source": [
    "# Initializing Models\n",
    "\n",
    "model1 = LinearRegression()\n",
    "#model2 = Ridge()\n",
    "#model3 = Lasso()\n",
    "#model4 = RandomForestRegressor()\n",
    "#model5 = KNeighborsRegressor()"
   ]
  },
  {
   "cell_type": "code",
   "execution_count": null,
   "id": "c934182a",
   "metadata": {},
   "outputs": [],
   "source": [
    "# Initializing Hyperparameters\n",
    "\n",
    "param1 = {}\n",
    "param1['model'] = [model1]\n",
    "\n",
    "# param2 = {}\n",
    "# param2['model__alpha'] = [0,0.5,1,5,10]\n",
    "# param2['model'] = [model2]\n",
    "\n",
    "# param3 = {}\n",
    "# param3['model__alpha'] = [0,0.5,1,5,10]\n",
    "# param3['model'] = [model3]\n",
    "\n",
    "# param4 = {}\n",
    "# param4['model__n_estimators'] = [10,50]\n",
    "# param4['model__max_depth'] = [5,10]\n",
    "# param4['model'] = [model4]\n",
    "\n",
    "# param5 = {}\n",
    "# param5['model__n_neighbors'] = [2,5,10]\n",
    "# param5['model'] = [model5]"
   ]
  },
  {
   "cell_type": "code",
   "execution_count": null,
   "id": "7995f1d0",
   "metadata": {},
   "outputs": [],
   "source": [
    "# Combined Pipeline\n",
    "\n",
    "pipe = Pipeline([\n",
    "    ('column_transformer', preprocessor),\n",
    "    ('model', model1)\n",
    "])\n",
    "\n",
    "params = [param1,param2,param3, param4, param5]"
   ]
  },
  {
   "cell_type": "code",
   "execution_count": null,
   "id": "82a1b670",
   "metadata": {},
   "outputs": [],
   "source": [
    "# Defining a function to fit the pipeline and return evaluation metric\n",
    "\n",
    "def fit_and_print(input_pipeline,\n",
    "                 X_train = X_train,\n",
    "                 y_train = y_train,\n",
    "                 X_test = X_test,\n",
    "                 y_test = y_test):\n",
    "    \n",
    "    input_pipeline.fit(X_train,y_train)\n",
    "    test_preds = input_pipeline.predict(X_test)\n",
    "    \n",
    "    print(\"Testing Accuracy : \" + str(accuracy_score(y_test,test_preds)))"
   ]
  },
  {
   "cell_type": "code",
   "execution_count": null,
   "id": "540d995e",
   "metadata": {},
   "outputs": [],
   "source": [
    "pipe"
   ]
  },
  {
   "cell_type": "code",
   "execution_count": null,
   "id": "6339ccdc",
   "metadata": {},
   "outputs": [],
   "source": [
    "pipe.get_params().keys()"
   ]
  },
  {
   "cell_type": "markdown",
   "id": "fd4e11db",
   "metadata": {},
   "source": [
    "### Grid Search CV"
   ]
  },
  {
   "cell_type": "code",
   "execution_count": null,
   "id": "cd5fcd09",
   "metadata": {},
   "outputs": [],
   "source": [
    "my_scorer = make_scorer(mean_absolute_error, greater_is_better=True)\n",
    "grid_search = GridSearchCV(pipe, params, cv=3, scoring=my_scorer, n_jobs=-1).fit(X_train, y_train)\n",
    "grid_search.best_params_"
   ]
  },
  {
   "cell_type": "code",
   "execution_count": null,
   "id": "c47d9928",
   "metadata": {},
   "outputs": [],
   "source": [
    "grid_search"
   ]
  },
  {
   "cell_type": "code",
   "execution_count": null,
   "id": "da6d5b93",
   "metadata": {},
   "outputs": [],
   "source": [
    "grid_search.fit(X_train,y_train)\n",
    "pipe.set_params(**search.best_params_)\n",
    "fit_and_print(pipe)"
   ]
  },
  {
   "cell_type": "code",
   "execution_count": null,
   "id": "91591f8c",
   "metadata": {},
   "outputs": [],
   "source": [
    "params"
   ]
  },
  {
   "cell_type": "code",
   "execution_count": null,
   "id": "0c526b34",
   "metadata": {},
   "outputs": [],
   "source": [
    "pipe"
   ]
  },
  {
   "cell_type": "code",
   "execution_count": null,
   "id": "43370465",
   "metadata": {},
   "outputs": [],
   "source": []
  }
 ],
 "metadata": {
  "kernelspec": {
   "display_name": "Python 3 (ipykernel)",
   "language": "python",
   "name": "python3"
  },
  "language_info": {
   "codemirror_mode": {
    "name": "ipython",
    "version": 3
   },
   "file_extension": ".py",
   "mimetype": "text/x-python",
   "name": "python",
   "nbconvert_exporter": "python",
   "pygments_lexer": "ipython3",
   "version": "3.8.12"
  }
 },
 "nbformat": 4,
 "nbformat_minor": 5
}
