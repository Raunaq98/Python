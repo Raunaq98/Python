{
 "cells": [
  {
   "cell_type": "markdown",
   "id": "cc4e28cb",
   "metadata": {},
   "source": [
    "# NumPy"
   ]
  },
  {
   "cell_type": "code",
   "execution_count": null,
   "id": "66d8a47a",
   "metadata": {},
   "outputs": [],
   "source": []
  },
  {
   "cell_type": "markdown",
   "id": "78a93b68",
   "metadata": {},
   "source": [
    "NumPy is a highly flexible, optimized, open-source package meant for array processing. It provides tools for delivering high-end performance while dealing with N-dimensional powerful array objects. It is also beneficial for performing scientific computations, mathematical, and logical operations, sorting operations, I/O functions, basic statistical and linear algebra-based operations along with random simulation and broadcasting functionalities. "
   ]
  },
  {
   "cell_type": "markdown",
   "id": "8a3224bd",
   "metadata": {},
   "source": [
    "#### NumPy Arrays are considered to be better than Lists\n",
    "<br>\n",
    "- Python lists support storing heterogeneous data types whereas NumPy arrays can store datatypes of one nature itself. NumPy provides extra functional capabilities that make operating on its arrays easier which makes NumPy array advantageous in comparison to Python lists as those functions cannot be operated on heterogeneous data. <br>\n",
    "- NumPy arrays are treated as objects which results in minimal memory usage. Since Python keeps track of objects by creating or deleting them based on the requirements, NumPy objects are also treated the same way. This results in lesser memory wastage. <br>\n",
    "- NumPy arrays support multi-dimensional arrays. <br>\n",
    "- NumPy provides various powerful and efficient functions for complex computations on the arrays. <br>\n",
    "- NumPy also provides various range of functions for BitWise Operations, String Operations, Linear Algebraic operations, Arithmetic operations etc. These are not provided on Python’s default lists.<br>"
   ]
  },
  {
   "cell_type": "code",
   "execution_count": 1,
   "id": "70b65e6a",
   "metadata": {},
   "outputs": [],
   "source": [
    "import numpy as np"
   ]
  },
  {
   "cell_type": "code",
   "execution_count": 2,
   "id": "f0c39b37",
   "metadata": {},
   "outputs": [
    {
     "name": "stdout",
     "output_type": "stream",
     "text": [
      "The NumPy array is: [1 2 3], it's dimensions are: 1 and it's shape is: (3,)\n"
     ]
    }
   ],
   "source": [
    "# 1-D Array Creation\n",
    "\n",
    "a = np.array([1,2,3])\n",
    "print(\"The NumPy array is: {}, it's dimensions are: {} and it's shape is: {}\".format(a, a.ndim, a.shape))"
   ]
  },
  {
   "cell_type": "code",
   "execution_count": 3,
   "id": "ef6465e0",
   "metadata": {},
   "outputs": [
    {
     "name": "stdout",
     "output_type": "stream",
     "text": [
      "[[1 2 3]\n",
      " [4 5 6]]\n",
      "Dimensions:  2\n",
      "Shape:  (2, 3)\n"
     ]
    }
   ],
   "source": [
    "# Multi-Dimensional Arrays --> List of Lists\n",
    "\n",
    "a = np.array([[1,2,3],[4,5,6]])\n",
    "print(a)\n",
    "print(\"Dimensions: \",a.ndim)\n",
    "print(\"Shape: \",a.shape)"
   ]
  },
  {
   "cell_type": "code",
   "execution_count": 4,
   "id": "a9542016",
   "metadata": {},
   "outputs": [
    {
     "name": "stdout",
     "output_type": "stream",
     "text": [
      "The NumPy array is: [1 2 3] and it's data type is: int32\n",
      "The NumPy array is: [1. 2. 3.] and it's data type is: float64\n"
     ]
    }
   ],
   "source": [
    "# Data Types\n",
    "\n",
    "a = np.array([1,2,3])\n",
    "print(\"The NumPy array is: {} and it's data type is: {}\".format(a, a.dtype))\n",
    "\n",
    "a = np.array([1.0,2,3])  #NumPy automatically converts integers to floats\n",
    "print(\"The NumPy array is: {} and it's data type is: {}\".format(a, a.dtype))"
   ]
  },
  {
   "cell_type": "markdown",
   "id": "5f97b669",
   "metadata": {},
   "source": [
    "### Basic NumPy Functions"
   ]
  },
  {
   "cell_type": "code",
   "execution_count": 5,
   "id": "42382dfa",
   "metadata": {},
   "outputs": [
    {
     "name": "stdout",
     "output_type": "stream",
     "text": [
      "Zero-Filled Array: \n",
      " [[0. 0. 0.]\n",
      " [0. 0. 0.]]\n",
      " \n",
      " One-Filled Array: \n",
      " [[1. 1. 1.]\n",
      " [1. 1. 1.]]\n",
      "\n",
      " Randomly Generated Array: \n",
      " [[0.41722574 0.80598066 0.36854816]\n",
      " [0.2346382  0.3468775  0.58942771]]\n",
      "\n",
      " Sequenced Array: \n",
      " [10 15 20 25 30 35 40 45]\n",
      "\n",
      " Linspaced Array: \n",
      " [0.         0.14285714 0.28571429 0.42857143 0.57142857 0.71428571\n",
      " 0.85714286 1.         1.14285714 1.28571429 1.42857143 1.57142857\n",
      " 1.71428571 1.85714286 2.        ]\n"
     ]
    }
   ],
   "source": [
    "# Creating two arrays with same shape but different filler values ( 1 or 0)\n",
    "a = np.zeros((2,3))\n",
    "b = np.ones((2,3))\n",
    "print(\"Zero-Filled Array: \\n\",a)\n",
    "print(\" \\n One-Filled Array: \\n\",b)\n",
    "\n",
    "\n",
    "# Creating an array with random numbers\n",
    "a = np.random.rand(2,3)\n",
    "print(\"\\n Randomly Generated Array: \\n\",a)\n",
    "\n",
    "\n",
    "# Creating a sequence of numbers in an array with the arange() function\n",
    "# Syntax :    np.arange(START, END (exclusive) , STEP)\n",
    "a = np.arange(10,50,5)\n",
    "print(\"\\n Sequenced Array: \\n\",a)\n",
    "\n",
    "\n",
    "# Creating a sequence of floats by using linsapce() function\n",
    "# Syntax :   np.linspace(START, STOP (inclusive), NUMBER OF ITEMS TO BE GENERATED)\n",
    "a = np.linspace(0,2,15)\n",
    "print(\"\\n Linspaced Array: \\n\",a)"
   ]
  },
  {
   "cell_type": "code",
   "execution_count": 6,
   "id": "56b8da22",
   "metadata": {},
   "outputs": [
    {
     "name": "stdout",
     "output_type": "stream",
     "text": [
      "\n",
      " Array : \n",
      " [-3 -2 -1  0  1  2  3]\n",
      "\n",
      " Reversed Array: \n",
      " [ 3  2  1  0 -1 -2 -3]\n",
      "\n",
      " Array : \n",
      " [-3 -2 -1  0  1  2  3]\n",
      "\n",
      " Reversed Array: \n",
      " [ 3  2  1  0 -1 -2 -3]\n"
     ]
    }
   ],
   "source": [
    "# Reversing an Array\n",
    "\n",
    "# Slicing Method\n",
    "a = np.array([-3,-2,-1,0,1,2,3])\n",
    "print(\"\\n Array : \\n\",a)\n",
    "print(\"\\n Reversed Array: \\n\",a[::-1])\n",
    "\n",
    "# flipud Function\n",
    "a = np.array([-3,-2,-1,0,1,2,3])\n",
    "print(\"\\n Array : \\n\",a)\n",
    "print(\"\\n Reversed Array: \\n\",np.flipud(a))"
   ]
  },
  {
   "cell_type": "code",
   "execution_count": 7,
   "id": "3fbb1e5a",
   "metadata": {},
   "outputs": [
    {
     "name": "stdout",
     "output_type": "stream",
     "text": [
      "\n",
      " Array : \n",
      " [[  1   2   3]\n",
      " [ 10  20  30]\n",
      " [100 200 300]]\n",
      "\n",
      " Using flipud (up-down) : \n",
      " [[100 200 300]\n",
      " [ 10  20  30]\n",
      " [  1   2   3]]\n",
      "\n",
      " Using fliplr (left-right) : \n",
      " [[  3   2   1]\n",
      " [ 30  20  10]\n",
      " [300 200 100]]\n"
     ]
    }
   ],
   "source": [
    "# Flip functions on Multi-dimensional Arrays\n",
    "\n",
    "a = np.array([[1,2,3],[10,20,30],[100,200,300]])\n",
    "print(\"\\n Array : \\n\",a)\n",
    "print(\"\\n Using flipud (up-down) : \\n\",np.flipud(a))\n",
    "\n",
    "a = np.array([[1,2,3],[10,20,30],[100,200,300]])\n",
    "print(\"\\n Using fliplr (left-right) : \\n\",np.fliplr(a))"
   ]
  },
  {
   "cell_type": "code",
   "execution_count": 8,
   "id": "103d34bc",
   "metadata": {},
   "outputs": [
    {
     "name": "stdout",
     "output_type": "stream",
     "text": [
      "\n",
      " Array : \n",
      " [1 2 3 4]\n",
      "\n",
      " Using Mean() : \n",
      " 2.5\n",
      "\n",
      " Using Average() without weights: \n",
      " 2.5\n",
      "\n",
      " Using Average() with weights: \n",
      " 3.5\n"
     ]
    }
   ],
   "source": [
    "# Mean() and Average()\n",
    "\n",
    "# The np.mean() method returns the arithmetic mean, but the np.average() function returns \n",
    "# the algebraic mean if no additional parameters are specified, but may also be used to compute a weighted average.\n",
    "\n",
    "a = np.array([1, 2, 3, 4])\n",
    "print(\"\\n Array : \\n\",a)\n",
    "\n",
    "print(\"\\n Using Mean() : \\n\", np.mean(a))\n",
    "\n",
    "print(\"\\n Using Average() without weights: \\n\", np.average(a))\n",
    "\n",
    "print(\"\\n Using Average() with weights: \\n\", np.average(a, weights=(0,0,1,1)))"
   ]
  },
  {
   "cell_type": "markdown",
   "id": "19d7fb14",
   "metadata": {},
   "source": [
    "### Array Operations"
   ]
  },
  {
   "cell_type": "code",
   "execution_count": 9,
   "id": "683fb8f8",
   "metadata": {},
   "outputs": [
    {
     "name": "stdout",
     "output_type": "stream",
     "text": [
      "\n",
      " First Array: \n",
      " [10 20 30 40]\n",
      "\n",
      " Second Array: \n",
      " [1 2 3 4]\n",
      "\n",
      " Sum: \n",
      " [11 22 33 44]\n",
      "\n",
      " Difference: \n",
      " [ 9 18 27 36]\n",
      "\n",
      " Product: \n",
      " [ 10  40  90 160]\n",
      "\n",
      " Division: \n",
      " [10. 10. 10. 10.]\n",
      "\n",
      " Exponential Power: \n",
      " [     10     400   27000 2560000]\n"
     ]
    }
   ],
   "source": [
    "# Arithmetic Operators are applied element-wise\n",
    "\n",
    "a = np.array([10,20,30,40])\n",
    "b = np.array([1,2,3,4])\n",
    "\n",
    "print(\"\\n First Array: \\n\", a)\n",
    "print(\"\\n Second Array: \\n\", b)\n",
    "print(\"\\n Sum: \\n\", a+b)\n",
    "print(\"\\n Difference: \\n\",a-b)\n",
    "print(\"\\n Product: \\n\",a*b)\n",
    "print(\"\\n Division: \\n\",a/b)\n",
    "print(\"\\n Exponential Power: \\n\",a**b)"
   ]
  },
  {
   "cell_type": "code",
   "execution_count": 10,
   "id": "9fadc54a",
   "metadata": {},
   "outputs": [
    {
     "data": {
      "text/plain": [
       "array([-17.77777778, -23.33333333, -20.55555556, -26.11111111,\n",
       "       -17.77777778])"
      ]
     },
     "execution_count": 10,
     "metadata": {},
     "output_type": "execute_result"
    }
   ],
   "source": [
    "# Using Array arithmetics to convert data into desired forms\n",
    "\n",
    "farenheit_temp = np.array([0,-10,-5,-15,0])\n",
    "celcius_temp = (farenheit_temp - 32)*(5/9)\n",
    "celcius_temp"
   ]
  },
  {
   "cell_type": "code",
   "execution_count": 11,
   "id": "7ce98d39",
   "metadata": {},
   "outputs": [
    {
     "name": "stdout",
     "output_type": "stream",
     "text": [
      "\n",
      " Array : \n",
      " [-3 -2 -1  0  1  2  3]\n",
      "\n",
      " Elements Greater than 0 : \n",
      " [False False False False  True  True  True]\n",
      "\n",
      " Elements Greater than or equal to 0 : \n",
      " [False False False  True  True  True  True]\n",
      "\n",
      " Even Elements : \n",
      " [False  True False  True False  True False]\n"
     ]
    }
   ],
   "source": [
    "# Boolean Operations\n",
    "\n",
    "a = np.array([-3,-2,-1,0,1,2,3])\n",
    "print(\"\\n Array : \\n\",a)\n",
    "print(\"\\n Elements Greater than 0 : \\n\",a>0)\n",
    "print(\"\\n Elements Greater than or equal to 0 : \\n\",a>=0)\n",
    "print(\"\\n Even Elements : \\n\",a%2 ==0)"
   ]
  },
  {
   "cell_type": "markdown",
   "id": "345d6c65",
   "metadata": {},
   "source": [
    "### Matrix Manipulation"
   ]
  },
  {
   "cell_type": "code",
   "execution_count": 12,
   "id": "6cafe12c",
   "metadata": {},
   "outputs": [
    {
     "name": "stdout",
     "output_type": "stream",
     "text": [
      "First Array: \n",
      " [[1 1]\n",
      " [0 1]]\n",
      "\n",
      " Second Array: \n",
      " [[2 0]\n",
      " [3 4]]\n",
      "\n",
      " Element-wise multiplication : \n",
      " [[2 0]\n",
      " [0 4]]\n",
      "\n",
      " Matrix multiplication : \n",
      " [[5 4]\n",
      " [3 4]]\n"
     ]
    }
   ],
   "source": [
    "# Normal Element-wise product is obtained by using the \"*\" operator\n",
    "# Matrix Multiplication (dot product) is obtained by using the \"@\" operator\n",
    "\n",
    "a = np.array([[1,1],[0,1]])\n",
    "b = np.array([[2,0],[3,4]])\n",
    "\n",
    "print(\"First Array: \\n\",a)\n",
    "print(\"\\n Second Array: \\n\",b)\n",
    "print(\"\\n Element-wise multiplication : \\n\", a*b)\n",
    "print(\"\\n Matrix multiplication : \\n\", a@b)\n"
   ]
  },
  {
   "cell_type": "code",
   "execution_count": 13,
   "id": "c49b9e50",
   "metadata": {},
   "outputs": [
    {
     "name": "stdout",
     "output_type": "stream",
     "text": [
      "\n",
      " First Array: \n",
      " [[1 2 3]\n",
      " [4 5 6]]\n",
      "\n",
      " Second Array: \n",
      " [[ 7.1  8.2  9.1]\n",
      " [10.4 11.2 12.3]]\n",
      "\n",
      " First Array datatype:  int32\n",
      "\n",
      " Second Array datatype:  float64\n",
      "\n",
      " Sum Array: \n",
      " [[ 8.1 10.2 12.1]\n",
      " [14.4 16.2 18.3]]\n",
      "\n",
      " Sum Array datatype:  float64\n"
     ]
    }
   ],
   "source": [
    "# Upcasting\n",
    "\n",
    "# When manipulating arrays of differnt types, the type of the resulting array will \n",
    "# correspond to the more general of the to types. This is called Upcasting.\n",
    "\n",
    "a = np.array([[1,2,3],[4,5,6]])\n",
    "b = np.array([[7.1,8.2,9.1],[10.4,11.2,12.3]])\n",
    "\n",
    "print(\"\\n First Array: \\n\",a)\n",
    "print(\"\\n Second Array: \\n\",b)\n",
    "\n",
    "print(\"\\n First Array datatype: \",a.dtype)\n",
    "print(\"\\n Second Array datatype: \",b.dtype)\n",
    "\n",
    "print(\"\\n Sum Array: \\n\",a+b)\n",
    "print(\"\\n Sum Array datatype: \",(a+b).dtype)"
   ]
  },
  {
   "cell_type": "markdown",
   "id": "2ce407bc",
   "metadata": {},
   "source": [
    "### Matrix Slicing and Indexing"
   ]
  },
  {
   "cell_type": "code",
   "execution_count": 14,
   "id": "6b973747",
   "metadata": {},
   "outputs": [
    {
     "name": "stdout",
     "output_type": "stream",
     "text": [
      "\n",
      " Array : \n",
      " [[1 2 3]\n",
      " [4 5 6]\n",
      " [7 8 9]]\n",
      "\n",
      " (2,2) element is: \n",
      " 9\n",
      "\n",
      " a[0] is: \n",
      " [1 2 3]\n",
      "\n",
      " a[:2] is: \n",
      " [[1 2 3]\n",
      " [4 5 6]]\n",
      "\n",
      " a[1,1] is: \n",
      " 5\n",
      "\n",
      " a[:2,1] is: \n",
      " [2 5]\n",
      "\n",
      " a[:2,1:2] is: \n",
      " [[2]\n",
      " [5]]\n"
     ]
    }
   ],
   "source": [
    "# Matrix Slicing \n",
    "# Syntax =     ARRAY[ROWS,COLUMNS]\n",
    "#              ARRAY[x]  --> x corresponds to rows\n",
    "\n",
    "a = np.array([[1,2,3],[4,5,6],[7,8,9]])\n",
    "print(\"\\n Array : \\n\",a)\n",
    "\n",
    "# Accessing a specific element (starting at 0)\n",
    "print(\"\\n (2,2) element is: \\n\", a[2,2])\n",
    "\n",
    "# Slicing using Array[x] --> works on rows by default\n",
    "print(\"\\n a[0] is: \\n\", a[0])\n",
    "print(\"\\n a[:2] is: \\n\", a[:2])  # 2 is excluded\n",
    "\n",
    "# Slicing using Array[rows,columns]\n",
    "print(\"\\n a[1,1] is: \\n\", a[1,1])\n",
    "print(\"\\n a[:2,1] is: \\n\", a[:2,1])\n",
    "print(\"\\n a[:2,1:2] is: \\n\", a[:2,1:2])"
   ]
  },
  {
   "cell_type": "code",
   "execution_count": 15,
   "id": "a41e99f8",
   "metadata": {},
   "outputs": [
    {
     "name": "stdout",
     "output_type": "stream",
     "text": [
      "\n",
      " Array : \n",
      " [[  1   2   3]\n",
      " [ 10  20  30]\n",
      " [100 200 300]]\n",
      "\n",
      " Method 1 for extracting 1,20 and 300: \n",
      " [  1  20 300]\n",
      "\n",
      " Method 2 for extracting 1,20 and 300: \n",
      " [  1  20 300]\n"
     ]
    }
   ],
   "source": [
    "# Accessing multiple elements\n",
    "\n",
    "a = np.array([[1,2,3],[10,20,30],[100,200,300]])\n",
    "print(\"\\n Array : \\n\",a)\n",
    "\n",
    "# Method 1 - extracting singular elements and placing them into an array\n",
    "print(\"\\n Method 1 for extracting 1,20 and 300: \\n\", np.array([a[0,0], a[1,1], a[2,2]]))\n",
    "\n",
    "# Method 2 - Zips first list and the second list (consider these lists as x and y coordinate lists)\n",
    "print(\"\\n Method 2 for extracting 1,20 and 300: \\n\", a[[0,1,2],[0,1,2]])"
   ]
  },
  {
   "cell_type": "code",
   "execution_count": 16,
   "id": "d85cbd8c",
   "metadata": {},
   "outputs": [
    {
     "name": "stdout",
     "output_type": "stream",
     "text": [
      "\n",
      " Array : \n",
      " [[  1   2   3]\n",
      " [ 10  20  30]\n",
      " [100 200 300]]\n",
      "\n",
      " Boolean Matrix of elements greater than 25 : \n",
      " [[False False False]\n",
      " [False False  True]\n",
      " [ True  True  True]]\n",
      "\n",
      " Matrix of elements greater than 25 : \n",
      " [ 30 100 200 300]\n"
     ]
    }
   ],
   "source": [
    "# Boolean Indexing\n",
    "\n",
    "a = np.array([[1,2,3],[10,20,30],[100,200,300]])\n",
    "print(\"\\n Array : \\n\",a)\n",
    "\n",
    "print(\"\\n Boolean Matrix of elements greater than 25 : \\n\",a>25)\n",
    "\n",
    "print(\"\\n Matrix of elements greater than 25 : \\n\", a[a>25])"
   ]
  },
  {
   "cell_type": "code",
   "execution_count": 17,
   "id": "9e52bee8",
   "metadata": {},
   "outputs": [
    {
     "name": "stdout",
     "output_type": "stream",
     "text": [
      "\n",
      " Array : \n",
      " [[  1   2   3]\n",
      " [ 10  20  30]\n",
      " [100 200 300]]\n",
      "\n",
      " Sub-Array : \n",
      " [[ 1  2]\n",
      " [10 20]]\n",
      "\n",
      " Updating sub-array such that b[0,0] = 1000\n",
      "\n",
      " Updated Sub-Array : \n",
      " [[1000    2]\n",
      " [  10   20]]\n",
      "\n",
      " Updated Original Array : \n",
      " [[1000    2    3]\n",
      " [  10   20   30]\n",
      " [ 100  200  300]]\n"
     ]
    }
   ],
   "source": [
    "# Updating the Slice of an array also updates the original array\n",
    "\n",
    "a = np.array([[1,2,3],[10,20,30],[100,200,300]])\n",
    "print(\"\\n Array : \\n\",a)\n",
    "\n",
    "b = a[:2,:2]\n",
    "print(\"\\n Sub-Array : \\n\",b)\n",
    "\n",
    "# Updating Sub-Array\n",
    "b[0,0] = 1000\n",
    "print(\"\\n Updating sub-array such that b[0,0] = 1000\")\n",
    "\n",
    "# Updated Sub-Array\n",
    "print(\"\\n Updated Sub-Array : \\n\",b)\n",
    "\n",
    "# Updated Original Array\n",
    "print(\"\\n Updated Original Array : \\n\",a)"
   ]
  },
  {
   "cell_type": "code",
   "execution_count": null,
   "id": "5853e842",
   "metadata": {},
   "outputs": [],
   "source": []
  }
 ],
 "metadata": {
  "kernelspec": {
   "display_name": "Python 3 (ipykernel)",
   "language": "python",
   "name": "python3"
  },
  "language_info": {
   "codemirror_mode": {
    "name": "ipython",
    "version": 3
   },
   "file_extension": ".py",
   "mimetype": "text/x-python",
   "name": "python",
   "nbconvert_exporter": "python",
   "pygments_lexer": "ipython3",
   "version": "3.8.12"
  }
 },
 "nbformat": 4,
 "nbformat_minor": 5
}
