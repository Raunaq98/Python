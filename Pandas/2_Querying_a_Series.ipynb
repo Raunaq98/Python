{
 "cells": [
  {
   "cell_type": "markdown",
   "id": "f4c69ba8",
   "metadata": {},
   "source": [
    "# Querying a Series"
   ]
  },
  {
   "cell_type": "markdown",
   "id": "d34ec1b7",
   "metadata": {},
   "source": [
    "A Pandas Series can be queried either by the index position or the index label. If you don't give an index to the Series while querying, the position and the label are effectively the same values. \n",
    "<br>\n",
    "<br>To query by **numeric location**, starting at zero, we use the **iloc** attribute. \n",
    "<br>\n",
    "<br>To query by **index label**, we use the **loc** attribute."
   ]
  },
  {
   "cell_type": "code",
   "execution_count": 1,
   "id": "ca0082a3",
   "metadata": {},
   "outputs": [],
   "source": [
    "import pandas as pd\n",
    "import numpy as np"
   ]
  },
  {
   "cell_type": "code",
   "execution_count": 2,
   "id": "2796e906",
   "metadata": {},
   "outputs": [
    {
     "data": {
      "text/plain": [
       "Alice      Physics\n",
       "Jack     Chemistry\n",
       "Molly      English\n",
       "Sam        History\n",
       "dtype: object"
      ]
     },
     "execution_count": 2,
     "metadata": {},
     "output_type": "execute_result"
    }
   ],
   "source": [
    "students_classes = {\"Alice\" : \"Physics\",\n",
    "                  \"Jack\" : \"Chemistry\",\n",
    "                  \"Molly\" : \"English\",\n",
    "                  \"Sam\" : \"History\"}\n",
    "\n",
    "a = pd.Series(students_classes)\n",
    "a"
   ]
  },
  {
   "cell_type": "code",
   "execution_count": 3,
   "id": "36df7c5b",
   "metadata": {},
   "outputs": [
    {
     "name": "stdout",
     "output_type": "stream",
     "text": [
      "\n",
      " The 4th entry using iloc is: \n",
      " History\n",
      "\n",
      " The entry with label = 'Alice' using loc is: \n",
      " Physics\n"
     ]
    }
   ],
   "source": [
    "# Accessing the 4th entry\n",
    "print(\"\\n The 4th entry using iloc is: \\n\", a.iloc[3])\n",
    "\n",
    "# Accessing the entry with label = \"Alice\"\n",
    "print(\"\\n The entry with label = 'Alice' using loc is: \\n\", a.loc[\"Alice\"])"
   ]
  },
  {
   "cell_type": "code",
   "execution_count": 4,
   "id": "ea5bd783",
   "metadata": {},
   "outputs": [
    {
     "name": "stdout",
     "output_type": "stream",
     "text": [
      "\n",
      " The entry with parameter = 3 is: \n",
      " History\n",
      "\n",
      " The entry with parameter = 'Alice' is: \n",
      " Physics\n"
     ]
    }
   ],
   "source": [
    "# If we pass only an integer parameter, the [] operator will behave as if we want to query via iloc\n",
    "\n",
    "print(\"\\n The entry with parameter = 3 is: \\n\", a[3])\n",
    "\n",
    "# If we pass only an object parameter, the [] operator will behave as if we want to query via loc\n",
    "print(\"\\n The entry with parameter = 'Alice' is: \\n\", a[\"Alice\"])"
   ]
  },
  {
   "cell_type": "code",
   "execution_count": 5,
   "id": "921b2bc4",
   "metadata": {},
   "outputs": [
    {
     "name": "stdout",
     "output_type": "stream",
     "text": [
      "ERROR\n",
      "\n",
      " First element is given by: \n",
      " Physics\n"
     ]
    }
   ],
   "source": [
    "# If the index is a list of integers, it is advisible to specify iloc/loc.\n",
    "\n",
    "class_code = {99 : \"Physics\",\n",
    "             100 : \"Chemistry\",\n",
    "             101 : \"English\",\n",
    "             102 : \"History\"}\n",
    "\n",
    "a = pd.Series(class_code)\n",
    "\n",
    "\n",
    "# This gives an error as there is no index = 0 in the Series anymore --> Series starts at index = 99 now\n",
    "try:\n",
    "    print(\"\\n a[0] is: \\n\",a[0])\n",
    "except KeyError:\n",
    "    print(\"ERROR\")\n",
    "    \n",
    "\n",
    "# Correct way of querying\n",
    "print(\"\\n First element is given by: \\n\", a.iloc[0])"
   ]
  },
  {
   "cell_type": "code",
   "execution_count": null,
   "id": "71ba50dd",
   "metadata": {},
   "outputs": [],
   "source": []
  },
  {
   "cell_type": "markdown",
   "id": "9d4e54af",
   "metadata": {},
   "source": [
    "### Vectorization"
   ]
  },
  {
   "cell_type": "markdown",
   "id": "bd6755e7",
   "metadata": {},
   "source": [
    "Function Vectorization technically means that the function is applied to all elements in the array. Typically, certain python functionalities on arrays (such as loops) are slower in nature because python arrays can contain elements of different data types. Since the C program expects a specific datatype, there are chances of compiler optimisation which makes C code run faster. <br> Since NumPy arrays support storing elements of a single datatype, most of the implementations of the functions written in NumPy meant for arithmetic, logical operations etc have optimised C program code under their hood. Additionally, NumPy also helps developers create their own vectorised functions by following the below steps:\n",
    "<br><br>\n",
    "- Write your required function that takes array elements as parameters.\n",
    "- Vectorize the function by making use of the vectorize() method of the NumPy package.\n",
    "- Give array inputs to the vectorized function."
   ]
  },
  {
   "cell_type": "code",
   "execution_count": 6,
   "id": "a20fd89f",
   "metadata": {},
   "outputs": [
    {
     "name": "stdout",
     "output_type": "stream",
     "text": [
      "\n",
      " Mean Grade: \n",
      " 75.0\n"
     ]
    }
   ],
   "source": [
    "# Simple Method\n",
    "\n",
    "grades = pd.Series([90,80,70,60])\n",
    "\n",
    "total = 0\n",
    "for grade in grades:\n",
    "    total = total + grade\n",
    "print(\"\\n Mean Grade: \\n\",total/len(grades))"
   ]
  },
  {
   "cell_type": "code",
   "execution_count": 7,
   "id": "f2ea7cfd",
   "metadata": {},
   "outputs": [
    {
     "name": "stdout",
     "output_type": "stream",
     "text": [
      "75.0\n"
     ]
    }
   ],
   "source": [
    "# Vectorization\n",
    "\n",
    "total = np.sum(grades)\n",
    "print(total/ len(grades))"
   ]
  },
  {
   "cell_type": "code",
   "execution_count": null,
   "id": "5a7ba6c9",
   "metadata": {},
   "outputs": [],
   "source": []
  },
  {
   "cell_type": "markdown",
   "id": "b063db5f",
   "metadata": {},
   "source": [
    "### Broadcasting"
   ]
  },
  {
   "cell_type": "markdown",
   "id": "641af27b",
   "metadata": {},
   "source": [
    "With Broadcasting, one can apply an operation to every value in the series."
   ]
  },
  {
   "cell_type": "code",
   "execution_count": 8,
   "id": "1fb1fa11",
   "metadata": {},
   "outputs": [
    {
     "data": {
      "text/plain": [
       "0    326\n",
       "1    273\n",
       "2    388\n",
       "3     67\n",
       "4    420\n",
       "dtype: int32"
      ]
     },
     "execution_count": 8,
     "metadata": {},
     "output_type": "execute_result"
    }
   ],
   "source": [
    "numbers = pd.Series(np.random.randint(0,1000,10000))\n",
    "numbers.head()"
   ]
  },
  {
   "cell_type": "code",
   "execution_count": 9,
   "id": "b69e6260",
   "metadata": {},
   "outputs": [
    {
     "data": {
      "text/plain": [
       "0    328\n",
       "1    275\n",
       "2    390\n",
       "3     69\n",
       "4    422\n",
       "dtype: int32"
      ]
     },
     "execution_count": 9,
     "metadata": {},
     "output_type": "execute_result"
    }
   ],
   "source": [
    "# Increasing every element by 2\n",
    "numbers += 2\n",
    "numbers.head()"
   ]
  },
  {
   "cell_type": "code",
   "execution_count": null,
   "id": "baababc7",
   "metadata": {},
   "outputs": [],
   "source": []
  }
 ],
 "metadata": {
  "kernelspec": {
   "display_name": "Python 3 (ipykernel)",
   "language": "python",
   "name": "python3"
  },
  "language_info": {
   "codemirror_mode": {
    "name": "ipython",
    "version": 3
   },
   "file_extension": ".py",
   "mimetype": "text/x-python",
   "name": "python",
   "nbconvert_exporter": "python",
   "pygments_lexer": "ipython3",
   "version": "3.8.12"
  }
 },
 "nbformat": 4,
 "nbformat_minor": 5
}
