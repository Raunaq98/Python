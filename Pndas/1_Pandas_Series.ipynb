{
 "cells": [
  {
   "cell_type": "markdown",
   "id": "c2075240",
   "metadata": {},
   "source": [
    "# Pandas Series"
   ]
  },
  {
   "cell_type": "markdown",
   "id": "0e973aee",
   "metadata": {},
   "source": [
    "Series is a one-dimensional labeled array capable of holding data of any type (integer, string, float, python objects, etc.). It can be considered as a cross between a list and a dictionary.\n",
    "<br>\n",
    "<br>\n",
    "An easy way of visualising this is through columns of data. The first one is the special index - like keys in a dictionary. The second one is the actual data and has a label of its own that can be used to retrieve the data.\n"
   ]
  },
  {
   "cell_type": "code",
   "execution_count": null,
   "id": "ffe89bc0",
   "metadata": {},
   "outputs": [],
   "source": []
  },
  {
   "cell_type": "code",
   "execution_count": 1,
   "id": "be5237a8",
   "metadata": {},
   "outputs": [],
   "source": [
    "import pandas as pd\n",
    "import numpy as np"
   ]
  },
  {
   "cell_type": "code",
   "execution_count": 2,
   "id": "7feeb767",
   "metadata": {},
   "outputs": [
    {
     "name": "stdout",
     "output_type": "stream",
     "text": [
      "0    Alice\n",
      "1     Jack\n",
      "2    Molly\n",
      "dtype: object \n",
      "\n",
      "0    1\n",
      "1    2\n",
      "2    3\n",
      "dtype: int64\n"
     ]
    }
   ],
   "source": [
    "# Creating a Series object from text\n",
    "\n",
    "students = [\"Alice\",\"Jack\",\"Molly\"]\n",
    "print(pd.Series(students), \"\\n\")\n",
    "\n",
    "\n",
    "# Creating a Series of numbers\n",
    "\n",
    "numbers = [1,2,3]\n",
    "print(pd.Series(numbers))"
   ]
  },
  {
   "cell_type": "code",
   "execution_count": 3,
   "id": "c4f17edf",
   "metadata": {},
   "outputs": [
    {
     "data": {
      "text/plain": [
       "Alice      Physics\n",
       "Jack     Chemistry\n",
       "Molly      English\n",
       "dtype: object"
      ]
     },
     "execution_count": 3,
     "metadata": {},
     "output_type": "execute_result"
    }
   ],
   "source": [
    "# Index Creation\n",
    "\n",
    "a = pd.Series([\"Physics\",\"Chemistry\",\"English\"],\n",
    "             index = [\"Alice\",\"Jack\",\"Molly\"])\n",
    "a"
   ]
  },
  {
   "cell_type": "markdown",
   "id": "c946afd7",
   "metadata": {},
   "source": [
    "### Missing Values"
   ]
  },
  {
   "cell_type": "code",
   "execution_count": 4,
   "id": "8dd70abe",
   "metadata": {},
   "outputs": [
    {
     "name": "stdout",
     "output_type": "stream",
     "text": [
      "0    Alice\n",
      "1     Jack\n",
      "2     None\n",
      "dtype: object\n"
     ]
    }
   ],
   "source": [
    "# Missing Values - Text\n",
    "\n",
    "# If we create a list of strings and we have one element as \"None\" type, Pandas will insert it as \"None\"\n",
    "# and use the type object for the underlying array.\n",
    "\n",
    "\n",
    "students = [\"Alice\",\"Jack\",None]\n",
    "print(pd.Series(students))"
   ]
  },
  {
   "cell_type": "code",
   "execution_count": 5,
   "id": "dc915a99",
   "metadata": {},
   "outputs": [
    {
     "name": "stdout",
     "output_type": "stream",
     "text": [
      "0    1.0\n",
      "1    2.0\n",
      "2    NaN\n",
      "dtype: float64\n"
     ]
    }
   ],
   "source": [
    "# Missing Values - Numbers\n",
    "\n",
    "# If we create a Series of numbers, integers or floats and put in the \"None\" type, Pandas will automatically convert it to\n",
    "# a special floating point value \"NaN\"\n",
    "\n",
    "numbers = [1,2,None]\n",
    "print(pd.Series(numbers))"
   ]
  },
  {
   "cell_type": "code",
   "execution_count": 6,
   "id": "a8ec5911",
   "metadata": {},
   "outputs": [
    {
     "name": "stdout",
     "output_type": "stream",
     "text": [
      "The pandas series is:\n",
      " 0    1.0\n",
      "1    2.0\n",
      "2    NaN\n",
      "dtype: float64\n",
      "\n",
      " 0    False\n",
      "1    False\n",
      "2     True\n",
      "dtype: bool\n",
      "\n",
      " 0    False\n",
      "1    False\n",
      "2     True\n",
      "dtype: bool\n"
     ]
    }
   ],
   "source": [
    "# Checking for Nan\n",
    "\n",
    "numbers = [1,2,None]\n",
    "a = pd.Series(numbers)\n",
    "print(\"The pandas series is:\\n\",a)\n",
    "\n",
    "\n",
    "# Method 1 : isna()\n",
    "print(\"\\n\", a.isna())\n",
    "\n",
    "# Method 2 : np.isnan()\n",
    "print(\"\\n\", np.isnan(a))"
   ]
  },
  {
   "cell_type": "code",
   "execution_count": null,
   "id": "28db69c9",
   "metadata": {},
   "outputs": [],
   "source": []
  },
  {
   "cell_type": "markdown",
   "id": "928a0435",
   "metadata": {},
   "source": [
    "### Labelled Series from Dictionaries"
   ]
  },
  {
   "cell_type": "code",
   "execution_count": 7,
   "id": "b01a0790",
   "metadata": {},
   "outputs": [
    {
     "data": {
      "text/plain": [
       "Alice      Physics\n",
       "Jack     Chemistry\n",
       "Molly      English\n",
       "dtype: object"
      ]
     },
     "execution_count": 7,
     "metadata": {},
     "output_type": "execute_result"
    }
   ],
   "source": [
    "students_scores = {\"Alice\" : \"Physics\",\n",
    "                  \"Jack\" : \"Chemistry\",\n",
    "                  \"Molly\" : \"English\"}\n",
    "\n",
    "a = pd.Series(students_scores)\n",
    "a"
   ]
  },
  {
   "cell_type": "code",
   "execution_count": 8,
   "id": "62a46d9d",
   "metadata": {},
   "outputs": [
    {
     "data": {
      "text/plain": [
       "Index(['Alice', 'Jack', 'Molly'], dtype='object')"
      ]
     },
     "execution_count": 8,
     "metadata": {},
     "output_type": "execute_result"
    }
   ],
   "source": [
    "# Accessing the index\n",
    "\n",
    "a.index"
   ]
  },
  {
   "cell_type": "code",
   "execution_count": 9,
   "id": "1d89afc0",
   "metadata": {},
   "outputs": [
    {
     "data": {
      "text/plain": [
       "Alice    Physics\n",
       "Molly    English\n",
       "Sam          NaN\n",
       "dtype: object"
      ]
     },
     "execution_count": 9,
     "metadata": {},
     "output_type": "execute_result"
    }
   ],
   "source": [
    "# In case the list of values in the index object are not aligned with the keys of the dictionary,\n",
    "# Pandas will override the automatic creation to favour only and all of the indices. Hence, it will \n",
    "# ignore from the dictionary, all keys which are not in the index and add None/NaN for all index \n",
    "# values not present in the dictionary key list.\n",
    "\n",
    "students_scores = {\"Alice\" : \"Physics\",\n",
    "                  \"Jack\" : \"Chemistry\",\n",
    "                  \"Molly\" : \"English\"}\n",
    "\n",
    "a = pd.Series(students_scores,\n",
    "             index=[\"Alice\",\"Molly\",\"Sam\"])\n",
    "a"
   ]
  },
  {
   "cell_type": "code",
   "execution_count": 10,
   "id": "0d3d8a1d",
   "metadata": {},
   "outputs": [
    {
     "data": {
      "text/plain": [
       "Alice      Physics\n",
       "Jack     Chemistry\n",
       "Molly      English\n",
       "dtype: object"
      ]
     },
     "execution_count": 10,
     "metadata": {},
     "output_type": "execute_result"
    }
   ],
   "source": [
    "students_scores = {\"Alice\" : \"Physics\",\n",
    "                  \"Jack\" : \"Chemistry\",\n",
    "                  \"Molly\" : \"English\",\n",
    "                  \"Sam\" : \"Math\"}\n",
    "\n",
    "a = pd.Series(students_scores,\n",
    "             index=[\"Alice\",\"Jack\",\"Molly\"])\n",
    "a"
   ]
  },
  {
   "cell_type": "code",
   "execution_count": null,
   "id": "76b83139",
   "metadata": {},
   "outputs": [],
   "source": []
  }
 ],
 "metadata": {
  "kernelspec": {
   "display_name": "Python 3 (ipykernel)",
   "language": "python",
   "name": "python3"
  },
  "language_info": {
   "codemirror_mode": {
    "name": "ipython",
    "version": 3
   },
   "file_extension": ".py",
   "mimetype": "text/x-python",
   "name": "python",
   "nbconvert_exporter": "python",
   "pygments_lexer": "ipython3",
   "version": "3.8.12"
  }
 },
 "nbformat": 4,
 "nbformat_minor": 5
}
